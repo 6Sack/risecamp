{
 "cells": [
  {
   "cell_type": "markdown",
   "metadata": {},
   "source": [
    "# Large Scale Matrix Computations\n",
    "\n",
    "In this notebookwe will walk through some of the more advanced things you can achieve with PyWren. Namely using S3 as a backing store we will implement a nearest neighbor classifier algorithm."
   ]
  },
  {
   "cell_type": "code",
   "execution_count": 213,
   "metadata": {},
   "outputs": [
    {
     "name": "stdout",
     "output_type": "stream",
     "text": [
      "Populating the interactive namespace from numpy and matplotlib\n"
     ]
    },
    {
     "name": "stderr",
     "output_type": "stream",
     "text": [
      "/Users/vaishaal/anaconda3/lib/python3.6/site-packages/IPython/core/magics/pylab.py:161: UserWarning: pylab import has clobbered these variables: ['matrix']\n",
      "`%matplotlib` prevents importing * from pylab and numpy\n",
      "  \"\\n`%matplotlib` prevents importing * from pylab and numpy\"\n"
     ]
    }
   ],
   "source": [
    "%pylab inline\n",
    "import boto3\n",
    "import cloudpickle\n",
    "import itertools\n",
    "import concurrent.futures as fs\n",
    "import io\n",
    "import numpy as np\n",
    "import time\n",
    "from importlib import reload\n",
    "from sklearn import metrics\n",
    "import pywren\n",
    "import pywren.wrenconfig as wc\n",
    "import itertools\n",
    "from operator import itemgetter\n",
    "import matrix"
   ]
  },
  {
   "cell_type": "code",
   "execution_count": 177,
   "metadata": {
    "collapsed": true
   },
   "outputs": [],
   "source": [
    "DEFAULT_BUCKET = wc.default()['s3']['bucket']"
   ]
  },
  {
   "cell_type": "markdown",
   "metadata": {},
   "source": [
    "## 1. Matrix Multiplication"
   ]
  },
  {
   "cell_type": "markdown",
   "metadata": {},
   "source": [
    "One nice thing about PyWren is it allows users to integrate existing python libraries easily.\n",
    "For the following exercise, we are going to use some popular python libraries, e.g., NumPy, to work on some matrix multiplication problems."
   ]
  },
  {
   "cell_type": "code",
   "execution_count": 5,
   "metadata": {
    "collapsed": true
   },
   "outputs": [],
   "source": [
    "import numpy as np\n",
    "\n",
    "def my_function(b):\n",
    "    x = np.random.normal(0, b, 1024)\n",
    "    A = np.random.normal(0, b, (1024, 1024))\n",
    "    return np.dot(A, x)\n",
    "\n",
    "pwex = pywren.default_executor()\n",
    "res = pwex.map(my_function, np.linspace(0.1, 10, 100))\n"
   ]
  },
  {
   "cell_type": "markdown",
   "metadata": {},
   "source": [
    "## 2. Distributed Nearest Neighbor with Large Scale Matrix Multiplication \n",
    "\n",
    "A problem with the above method is that, we are limited to working with \"small\" matrices, that fit in the memory of a single lambda instance. With a little work we can write a \"ShardedMatrix\" wrapper that shards numpy matrices across S3 objects (the source code for this can be found in matrix.py) This allows us to use PyWren's map functionality to access different parts of the matrix. We can further use this functionality to compute a large scale matrix multiplication.\n",
    "\n",
    "\n",
    "In the below example we will implement a distributed nearest neighbor implementation on top of PyWren and this ShardedMatrix abstraction. Note that nearest neighbor is often a hard to implement algorithm on BSP systems such as Apache Spark due to a high communication cost."
   ]
  },
  {
   "cell_type": "code",
   "execution_count": 19,
   "metadata": {},
   "outputs": [
    {
     "data": {
      "text/plain": [
       "<module 'matrix' from '/Users/vaishaal/research/risecamp/pywren/matrix.py'>"
      ]
     },
     "execution_count": 19,
     "metadata": {},
     "output_type": "execute_result"
    }
   ],
   "source": [
    "from sklearn.datasets import fetch_mldata\n",
    "import matrix\n",
    "reload(matrix)"
   ]
  },
  {
   "cell_type": "markdown",
   "metadata": {},
   "source": [
    "Lets download the mnist dataset. This cell should take about 3 minutes to complete."
   ]
  },
  {
   "cell_type": "code",
   "execution_count": 20,
   "metadata": {
    "collapsed": true
   },
   "outputs": [],
   "source": [
    "X = fetch_mldata('MNIST original', data_home=\"/tmp/\")['data'].astype('float32')\n",
    "y = fetch_mldata('MNIST original', data_home=\"/tmp/\")['target']\n",
    "X_train = X[:60000, :]\n",
    "y_train = y[:60000, np.newaxis]\n",
    "\n",
    "X_test = X[60000:, :]\n",
    "y_test = y[60000:, np.newaxis]"
   ]
  },
  {
   "cell_type": "code",
   "execution_count": null,
   "metadata": {
    "collapsed": true
   },
   "outputs": [],
   "source": []
  },
  {
   "cell_type": "markdown",
   "metadata": {},
   "source": [
    "We will now \"shard\" the mnist matrix with a shard_size of 4000, what this means is that, we will convert the 60000 by 784 matrix into 30 separate 4000 x 784 numpy matrices that will be split across different S3 Keys. The first argument is the S3 folder where these submatrices can be found. This cell should take about 3 minutes to complete. "
   ]
  },
  {
   "cell_type": "code",
   "execution_count": 21,
   "metadata": {},
   "outputs": [
    {
     "name": "stdout",
     "output_type": "stream",
     "text": [
      "CPU times: user 82.4 ms, sys: 6.61 ms, total: 89 ms\n",
      "Wall time: 1.35 s\n",
      "CPU times: user 82.7 ms, sys: 5.65 ms, total: 88.3 ms\n",
      "Wall time: 1.3 s\n"
     ]
    }
   ],
   "source": [
    "%time X_train_sharded = matrix.ShardedMatrix(\"x_train\", shape=X_train.shape, bucket=DEFAULT_BUCKET, shard_sizes=[4000,784])\n",
    "#%time X_train_sharded.shard_matrix(X_train, n_jobs=16)\n",
    "\n",
    "%time X_test_sharded = matrix.ShardedMatrix(\"x_test\", shape=X_test.shape, bucket=DEFAULT_BUCKET, shard_sizes=[4000,784])\n",
    "#%time X_test_sharded.shard_matrix(X_test, n_jobs=16)"
   ]
  },
  {
   "cell_type": "markdown",
   "metadata": {},
   "source": [
    "Now that we have our sharded matrices we can compute a local nearest neighbor classifier and compare it with one we will compute with PyWren. If we do everything correctly the PyWren implementation should be identical to the local one, but with a better scaling with dataset size."
   ]
  },
  {
   "cell_type": "code",
   "execution_count": 11,
   "metadata": {
    "collapsed": true
   },
   "outputs": [],
   "source": [
    "def compute_local_nearest_neighbor_labels(X_train, X_test, y_test, y_train):\n",
    "    # compute a distance matrix\n",
    "    train_norms = np.linalg.norm(X_train, axis=1)[:, np.newaxis] ** 2\n",
    "    test_norms = np.linalg.norm(X_test, axis=1)[np.newaxis, :] ** 2\n",
    "    return y_train[np.argmin(train_norms + -2*X_train.dot(X_test.T)+ test_norms, axis=0)]"
   ]
  },
  {
   "cell_type": "code",
   "execution_count": 191,
   "metadata": {},
   "outputs": [
    {
     "name": "stdout",
     "output_type": "stream",
     "text": [
      "CPU times: user 34.8 s, sys: 5.68 s, total: 40.5 s\n",
      "Wall time: 38 s\n",
      "Accuracy is  0.9691\n"
     ]
    }
   ],
   "source": [
    "%time y_test_pred = compute_local_nearest_neighbor_labels(X_train, X_test, y_test, y_train)\n",
    "print(\"Accuracy is \", metrics.accuracy_score(y_test_pred, y_test))"
   ]
  },
  {
   "cell_type": "markdown",
   "metadata": {},
   "source": [
    "#### Lets try using PyWren.\n",
    "Our strategy will be to use PyWren to map over (training point, testing point) pairs (in a blockwise fashion), and generate the distance matrix in a sharded form. Then we can launch another PyWren job to extract the nearest neighbors. "
   ]
  },
  {
   "cell_type": "code",
   "execution_count": 193,
   "metadata": {},
   "outputs": [],
   "source": [
    "# create an \"empty\" ShardedMatrix on S3 (we will fill this Matrix in with pywren)\n",
    "D_sharded = matrix.ShardedMatrix(\"D\", shape=(X_train.shape[0], X_test.shape[0]), shard_sizes=[4000,4000], bucket=DEFAULT_BUCKET)\n",
    "\n",
    "def compute_pywren_nearest_neighbor_distance_matrix(block_pair, X_train_sharded, X_test_sharded, D_sharded):\n",
    "    block0,block1 = block_pair\n",
    "    # compute a distance matrix block\n",
    "    X_train_block = X_train_sharded.get_block(block0, 0)\n",
    "    X_test_block = X_test_sharded.get_block(block1, 0)\n",
    "    train_norms = np.linalg.norm(X_train_block, axis=1)[:, np.newaxis] ** 2\n",
    "    test_norms = np.linalg.norm(X_test_block, axis=1)[np.newaxis, :] ** 2\n",
    "    D_block = train_norms + -2*X_train_block.dot(X_test_block.T)+ test_norms\n",
    "    D_sharded.put_block(block0, block1, D_block)\n",
    "    return 0 "
   ]
  },
  {
   "cell_type": "code",
   "execution_count": 194,
   "metadata": {
    "collapsed": true
   },
   "outputs": [],
   "source": [
    "pywren_distance_function = lambda bidx: compute_pywren_nearest_neighbor_distance_matrix(bidx, X_train_sharded, X_test_sharded, D_sharded)"
   ]
  },
  {
   "cell_type": "code",
   "execution_count": 195,
   "metadata": {},
   "outputs": [
    {
     "name": "stdout",
     "output_type": "stream",
     "text": [
      "CPU times: user 1.29 s, sys: 146 ms, total: 1.44 s\n",
      "Wall time: 2.17 s\n"
     ]
    }
   ],
   "source": [
    "%time futures = pwex.map(pywren_distance_function, D_sharded.block_idxs)"
   ]
  },
  {
   "cell_type": "code",
   "execution_count": 196,
   "metadata": {},
   "outputs": [
    {
     "name": "stdout",
     "output_type": "stream",
     "text": [
      "CPU times: user 1.91 s, sys: 204 ms, total: 2.12 s\n",
      "Wall time: 54.1 s\n"
     ]
    },
    {
     "data": {
      "text/plain": [
       "([<pywren.future.ResponseFuture at 0x118253160>,\n",
       "  <pywren.future.ResponseFuture at 0x114b2b668>,\n",
       "  <pywren.future.ResponseFuture at 0x118880b70>,\n",
       "  <pywren.future.ResponseFuture at 0x1254cac50>,\n",
       "  <pywren.future.ResponseFuture at 0x1187914a8>,\n",
       "  <pywren.future.ResponseFuture at 0x114b2bc50>,\n",
       "  <pywren.future.ResponseFuture at 0x118369a20>,\n",
       "  <pywren.future.ResponseFuture at 0x125456128>,\n",
       "  <pywren.future.ResponseFuture at 0x1254ca048>,\n",
       "  <pywren.future.ResponseFuture at 0x1254ca208>,\n",
       "  <pywren.future.ResponseFuture at 0x1188807b8>,\n",
       "  <pywren.future.ResponseFuture at 0x1139d7470>,\n",
       "  <pywren.future.ResponseFuture at 0x1188802e8>,\n",
       "  <pywren.future.ResponseFuture at 0x114b2bd30>,\n",
       "  <pywren.future.ResponseFuture at 0x118791cf8>,\n",
       "  <pywren.future.ResponseFuture at 0x118696588>,\n",
       "  <pywren.future.ResponseFuture at 0x118369390>,\n",
       "  <pywren.future.ResponseFuture at 0x118253a90>,\n",
       "  <pywren.future.ResponseFuture at 0x118541f60>,\n",
       "  <pywren.future.ResponseFuture at 0x1188805f8>,\n",
       "  <pywren.future.ResponseFuture at 0x118369f98>,\n",
       "  <pywren.future.ResponseFuture at 0x1186967b8>,\n",
       "  <pywren.future.ResponseFuture at 0x118880e80>,\n",
       "  <pywren.future.ResponseFuture at 0x1254ca1d0>,\n",
       "  <pywren.future.ResponseFuture at 0x114b2b9b0>,\n",
       "  <pywren.future.ResponseFuture at 0x118880fd0>,\n",
       "  <pywren.future.ResponseFuture at 0x118791d68>,\n",
       "  <pywren.future.ResponseFuture at 0x114b2b898>,\n",
       "  <pywren.future.ResponseFuture at 0x1188807f0>,\n",
       "  <pywren.future.ResponseFuture at 0x114b2bef0>,\n",
       "  <pywren.future.ResponseFuture at 0x118253588>,\n",
       "  <pywren.future.ResponseFuture at 0x1182537f0>,\n",
       "  <pywren.future.ResponseFuture at 0x118880160>,\n",
       "  <pywren.future.ResponseFuture at 0x118253d30>,\n",
       "  <pywren.future.ResponseFuture at 0x114b2bfd0>,\n",
       "  <pywren.future.ResponseFuture at 0x111966550>,\n",
       "  <pywren.future.ResponseFuture at 0x118696208>,\n",
       "  <pywren.future.ResponseFuture at 0x114b2b208>,\n",
       "  <pywren.future.ResponseFuture at 0x1188805c0>,\n",
       "  <pywren.future.ResponseFuture at 0x1188804a8>,\n",
       "  <pywren.future.ResponseFuture at 0x114b2bcc0>,\n",
       "  <pywren.future.ResponseFuture at 0x118791240>,\n",
       "  <pywren.future.ResponseFuture at 0x11855fac8>,\n",
       "  <pywren.future.ResponseFuture at 0x118880ba8>,\n",
       "  <pywren.future.ResponseFuture at 0x118696e10>],\n",
       " [])"
      ]
     },
     "execution_count": 196,
     "metadata": {},
     "output_type": "execute_result"
    }
   ],
   "source": [
    "%time pywren.wait(futures)"
   ]
  },
  {
   "cell_type": "code",
   "execution_count": 197,
   "metadata": {
    "collapsed": true
   },
   "outputs": [],
   "source": [
    "def find_argmin(block_pair, D_sharded):\n",
    "    D_block = D_sharded.get_block(*block_pair)\n",
    "    offset = block_pair[0]*D_sharded.shard_sizes[0] \n",
    "    return (block_pair[1], offset + np.argmin(D_block, axis=0), np.min(D_block, axis=0))"
   ]
  },
  {
   "cell_type": "code",
   "execution_count": 198,
   "metadata": {},
   "outputs": [
    {
     "name": "stdout",
     "output_type": "stream",
     "text": [
      "CPU times: user 1.22 s, sys: 146 ms, total: 1.37 s\n",
      "Wall time: 2.05 s\n"
     ]
    }
   ],
   "source": [
    "%time futures = pwex.map(lambda x: find_argmin(x, D_sharded), sorted(D_sharded.block_idxs))"
   ]
  },
  {
   "cell_type": "code",
   "execution_count": 199,
   "metadata": {},
   "outputs": [
    {
     "name": "stdout",
     "output_type": "stream",
     "text": [
      "CPU times: user 1.37 s, sys: 146 ms, total: 1.51 s\n",
      "Wall time: 19.4 s\n"
     ]
    },
    {
     "data": {
      "text/plain": [
       "([<pywren.future.ResponseFuture at 0x1182fd208>,\n",
       "  <pywren.future.ResponseFuture at 0x1249d7358>,\n",
       "  <pywren.future.ResponseFuture at 0x114a40e80>,\n",
       "  <pywren.future.ResponseFuture at 0x1249cadd8>,\n",
       "  <pywren.future.ResponseFuture at 0x1182fd668>,\n",
       "  <pywren.future.ResponseFuture at 0x11859c908>,\n",
       "  <pywren.future.ResponseFuture at 0x1182fd748>,\n",
       "  <pywren.future.ResponseFuture at 0x1182fd7b8>,\n",
       "  <pywren.future.ResponseFuture at 0x1249ca940>,\n",
       "  <pywren.future.ResponseFuture at 0x11859c208>,\n",
       "  <pywren.future.ResponseFuture at 0x1249ca1d0>,\n",
       "  <pywren.future.ResponseFuture at 0x114b150f0>,\n",
       "  <pywren.future.ResponseFuture at 0x1249eb128>,\n",
       "  <pywren.future.ResponseFuture at 0x1249caba8>,\n",
       "  <pywren.future.ResponseFuture at 0x1249ca978>,\n",
       "  <pywren.future.ResponseFuture at 0x1249eb860>,\n",
       "  <pywren.future.ResponseFuture at 0x1182fdcc0>,\n",
       "  <pywren.future.ResponseFuture at 0x1256be198>,\n",
       "  <pywren.future.ResponseFuture at 0x124792d30>,\n",
       "  <pywren.future.ResponseFuture at 0x124792cc0>,\n",
       "  <pywren.future.ResponseFuture at 0x1182fdf98>,\n",
       "  <pywren.future.ResponseFuture at 0x1182fdbe0>,\n",
       "  <pywren.future.ResponseFuture at 0x1256beac8>,\n",
       "  <pywren.future.ResponseFuture at 0x114b15710>,\n",
       "  <pywren.future.ResponseFuture at 0x1249eb208>,\n",
       "  <pywren.future.ResponseFuture at 0x114a9e0b8>,\n",
       "  <pywren.future.ResponseFuture at 0x114a40160>,\n",
       "  <pywren.future.ResponseFuture at 0x1249ebc88>,\n",
       "  <pywren.future.ResponseFuture at 0x1204bb4e0>,\n",
       "  <pywren.future.ResponseFuture at 0x1249cac50>,\n",
       "  <pywren.future.ResponseFuture at 0x1182fd048>,\n",
       "  <pywren.future.ResponseFuture at 0x120521c18>,\n",
       "  <pywren.future.ResponseFuture at 0x114a9e0f0>,\n",
       "  <pywren.future.ResponseFuture at 0x1247bbac8>,\n",
       "  <pywren.future.ResponseFuture at 0x1256bef98>,\n",
       "  <pywren.future.ResponseFuture at 0x114a40438>,\n",
       "  <pywren.future.ResponseFuture at 0x124792550>,\n",
       "  <pywren.future.ResponseFuture at 0x120521c50>,\n",
       "  <pywren.future.ResponseFuture at 0x124792748>,\n",
       "  <pywren.future.ResponseFuture at 0x1247924e0>,\n",
       "  <pywren.future.ResponseFuture at 0x1247bb240>,\n",
       "  <pywren.future.ResponseFuture at 0x1182fddd8>,\n",
       "  <pywren.future.ResponseFuture at 0x1247bbe80>,\n",
       "  <pywren.future.ResponseFuture at 0x1182fd4e0>,\n",
       "  <pywren.future.ResponseFuture at 0x120521ac8>],\n",
       " [])"
      ]
     },
     "execution_count": 199,
     "metadata": {},
     "output_type": "execute_result"
    }
   ],
   "source": [
    "%time pywren.wait(futures)"
   ]
  },
  {
   "cell_type": "code",
   "execution_count": 200,
   "metadata": {
    "collapsed": true
   },
   "outputs": [],
   "source": [
    "results = [f.result() for f in futures]"
   ]
  },
  {
   "cell_type": "code",
   "execution_count": 201,
   "metadata": {},
   "outputs": [
    {
     "name": "stdout",
     "output_type": "stream",
     "text": [
      "Accuracy is  0.9691\n"
     ]
    }
   ],
   "source": [
    "def compute_results_from_pywren(results):\n",
    "    mins = []\n",
    "    for _, group in itertools.groupby(sorted(results, key=itemgetter(0)), key=itemgetter(0)):\n",
    "        group = list(group)\n",
    "        argmins = np.vstack([g[1] for g in group])\n",
    "        argminmin = np.argmin(np.vstack([g[2] for g in group]), axis=0)\n",
    "        mins.append(argmins[argminmin, np.arange(argmins.shape[1])])\n",
    "    return np.hstack(mins)\n",
    "y_test_pred_pywren = y_train[compute_results_from_pywren(results)]\n",
    "print(\"Accuracy is \", metrics.accuracy_score(y_test, y_test_pred_pywren))\n",
    "\n"
   ]
  },
  {
   "cell_type": "markdown",
   "metadata": {},
   "source": [
    "The advantage of this PyWren implementation is that we are executing in parallel over the entire matrix. So as we get more training and test points our implementation will scale gracefully along with it."
   ]
  },
  {
   "cell_type": "markdown",
   "metadata": {},
   "source": [
    "### Computing Training 1-NN\n",
    "\n",
    "So one advantage of this PyWren implementation is that we can compute the training accuracy of our NN classifier.\n",
    "Normally this is hard because the training distance matrix is 60000 x 60000. Which is around 10 GB and can be quite cumbersome to compute (and may not even fit in your local ram!).\n",
    "\n",
    "(We know apriori for 1-NN it is always going to be 100% but we can verify that quickly with PyWren)."
   ]
  },
  {
   "cell_type": "code",
   "execution_count": 217,
   "metadata": {
    "collapsed": true
   },
   "outputs": [],
   "source": [
    "# create an \"empty\" ShardedMatrix on S3 (we will fill this Matrix in with pywren)\n",
    "D_train_sharded = matrix.ShardedMatrix(\"D\", shape=(X_train.shape[0], X_train.shape[0]), shard_sizes=[4000,4000], bucket=DEFAULT_BUCKET)"
   ]
  },
  {
   "cell_type": "code",
   "execution_count": 224,
   "metadata": {},
   "outputs": [
    {
     "name": "stdout",
     "output_type": "stream",
     "text": [
      "CPU times: user 5.24 s, sys: 804 ms, total: 6.05 s\n",
      "Wall time: 7.9 s\n"
     ]
    }
   ],
   "source": [
    "pywren_train_distance_function = lambda bidx: compute_pywren_nearest_neighbor_distance_matrix(bidx, X_train_sharded, X_train_sharded, D_train_sharded)\n",
    "%time futures = pwex.map(pywren_train_distance_function, D_train_sharded.block_idxs)"
   ]
  },
  {
   "cell_type": "code",
   "execution_count": 225,
   "metadata": {},
   "outputs": [
    {
     "name": "stdout",
     "output_type": "stream",
     "text": [
      "CPU times: user 9.09 s, sys: 925 ms, total: 10 s\n",
      "Wall time: 3min 11s\n"
     ]
    },
    {
     "data": {
      "text/plain": [
       "([<pywren.future.ResponseFuture at 0x111d7a080>,\n",
       "  <pywren.future.ResponseFuture at 0x124b43550>,\n",
       "  <pywren.future.ResponseFuture at 0x11f95ef28>,\n",
       "  <pywren.future.ResponseFuture at 0x115581470>,\n",
       "  <pywren.future.ResponseFuture at 0x1155d9780>,\n",
       "  <pywren.future.ResponseFuture at 0x115578c50>,\n",
       "  <pywren.future.ResponseFuture at 0x125508860>,\n",
       "  <pywren.future.ResponseFuture at 0x12453e278>,\n",
       "  <pywren.future.ResponseFuture at 0x11883f7b8>,\n",
       "  <pywren.future.ResponseFuture at 0x11f89ae10>,\n",
       "  <pywren.future.ResponseFuture at 0x111d73828>,\n",
       "  <pywren.future.ResponseFuture at 0x11f7f6198>,\n",
       "  <pywren.future.ResponseFuture at 0x11f87c390>,\n",
       "  <pywren.future.ResponseFuture at 0x1147edc88>,\n",
       "  <pywren.future.ResponseFuture at 0x11f958438>,\n",
       "  <pywren.future.ResponseFuture at 0x11542fba8>,\n",
       "  <pywren.future.ResponseFuture at 0x11f89d390>,\n",
       "  <pywren.future.ResponseFuture at 0x11883f978>,\n",
       "  <pywren.future.ResponseFuture at 0x1154fc4e0>,\n",
       "  <pywren.future.ResponseFuture at 0x118873c88>,\n",
       "  <pywren.future.ResponseFuture at 0x11f87c208>,\n",
       "  <pywren.future.ResponseFuture at 0x11f87c160>,\n",
       "  <pywren.future.ResponseFuture at 0x11f93e390>,\n",
       "  <pywren.future.ResponseFuture at 0x10b280240>,\n",
       "  <pywren.future.ResponseFuture at 0x118249828>,\n",
       "  <pywren.future.ResponseFuture at 0x11f7f7518>,\n",
       "  <pywren.future.ResponseFuture at 0x11f89ab00>,\n",
       "  <pywren.future.ResponseFuture at 0x1154637b8>,\n",
       "  <pywren.future.ResponseFuture at 0x111d730f0>,\n",
       "  <pywren.future.ResponseFuture at 0x11f89aa90>,\n",
       "  <pywren.future.ResponseFuture at 0x1147ed5f8>,\n",
       "  <pywren.future.ResponseFuture at 0x124b435f8>,\n",
       "  <pywren.future.ResponseFuture at 0x11565eac8>,\n",
       "  <pywren.future.ResponseFuture at 0x10b2c2f60>,\n",
       "  <pywren.future.ResponseFuture at 0x11886ccf8>,\n",
       "  <pywren.future.ResponseFuture at 0x11f89a240>,\n",
       "  <pywren.future.ResponseFuture at 0x11558deb8>,\n",
       "  <pywren.future.ResponseFuture at 0x11f7f2748>,\n",
       "  <pywren.future.ResponseFuture at 0x11565edd8>,\n",
       "  <pywren.future.ResponseFuture at 0x10b1ae9e8>,\n",
       "  <pywren.future.ResponseFuture at 0x11558de80>,\n",
       "  <pywren.future.ResponseFuture at 0x1182499b0>,\n",
       "  <pywren.future.ResponseFuture at 0x11f89d518>,\n",
       "  <pywren.future.ResponseFuture at 0x11f89a7f0>,\n",
       "  <pywren.future.ResponseFuture at 0x10b1edb38>,\n",
       "  <pywren.future.ResponseFuture at 0x124752668>,\n",
       "  <pywren.future.ResponseFuture at 0x11f89dcf8>,\n",
       "  <pywren.future.ResponseFuture at 0x124b43588>,\n",
       "  <pywren.future.ResponseFuture at 0x1175efbe0>,\n",
       "  <pywren.future.ResponseFuture at 0x11565e080>,\n",
       "  <pywren.future.ResponseFuture at 0x1176918d0>,\n",
       "  <pywren.future.ResponseFuture at 0x1155958d0>,\n",
       "  <pywren.future.ResponseFuture at 0x1155d9d30>,\n",
       "  <pywren.future.ResponseFuture at 0x125508f98>,\n",
       "  <pywren.future.ResponseFuture at 0x11565e940>,\n",
       "  <pywren.future.ResponseFuture at 0x11532c160>,\n",
       "  <pywren.future.ResponseFuture at 0x115501780>,\n",
       "  <pywren.future.ResponseFuture at 0x10b280eb8>,\n",
       "  <pywren.future.ResponseFuture at 0x118249940>,\n",
       "  <pywren.future.ResponseFuture at 0x124752b00>,\n",
       "  <pywren.future.ResponseFuture at 0x1147ed9e8>,\n",
       "  <pywren.future.ResponseFuture at 0x11f802a90>,\n",
       "  <pywren.future.ResponseFuture at 0x11f802cf8>,\n",
       "  <pywren.future.ResponseFuture at 0x11f89d240>,\n",
       "  <pywren.future.ResponseFuture at 0x11f87cf60>,\n",
       "  <pywren.future.ResponseFuture at 0x1186f18d0>,\n",
       "  <pywren.future.ResponseFuture at 0x1153a25c0>,\n",
       "  <pywren.future.ResponseFuture at 0x11f87cf28>,\n",
       "  <pywren.future.ResponseFuture at 0x10b1ed240>,\n",
       "  <pywren.future.ResponseFuture at 0x118479e80>,\n",
       "  <pywren.future.ResponseFuture at 0x11844d2b0>,\n",
       "  <pywren.future.ResponseFuture at 0x11f7f76a0>,\n",
       "  <pywren.future.ResponseFuture at 0x11f7f2b70>,\n",
       "  <pywren.future.ResponseFuture at 0x111d7a630>,\n",
       "  <pywren.future.ResponseFuture at 0x11f89ddd8>,\n",
       "  <pywren.future.ResponseFuture at 0x11f7f7710>,\n",
       "  <pywren.future.ResponseFuture at 0x11f87c978>,\n",
       "  <pywren.future.ResponseFuture at 0x11f7f6908>,\n",
       "  <pywren.future.ResponseFuture at 0x11f89aba8>,\n",
       "  <pywren.future.ResponseFuture at 0x10b1ed7b8>,\n",
       "  <pywren.future.ResponseFuture at 0x11f7f2da0>,\n",
       "  <pywren.future.ResponseFuture at 0x111d7acc0>,\n",
       "  <pywren.future.ResponseFuture at 0x11f7f7e48>,\n",
       "  <pywren.future.ResponseFuture at 0x124b43048>,\n",
       "  <pywren.future.ResponseFuture at 0x124b43e10>,\n",
       "  <pywren.future.ResponseFuture at 0x10b1f6390>,\n",
       "  <pywren.future.ResponseFuture at 0x111d77208>,\n",
       "  <pywren.future.ResponseFuture at 0x11f89aa20>,\n",
       "  <pywren.future.ResponseFuture at 0x11f802438>,\n",
       "  <pywren.future.ResponseFuture at 0x11f958ef0>,\n",
       "  <pywren.future.ResponseFuture at 0x124752dd8>,\n",
       "  <pywren.future.ResponseFuture at 0x10b1ae630>,\n",
       "  <pywren.future.ResponseFuture at 0x115321358>,\n",
       "  <pywren.future.ResponseFuture at 0x11845db70>,\n",
       "  <pywren.future.ResponseFuture at 0x111d7ae80>,\n",
       "  <pywren.future.ResponseFuture at 0x124b43208>,\n",
       "  <pywren.future.ResponseFuture at 0x11f7f2048>,\n",
       "  <pywren.future.ResponseFuture at 0x10b280f98>,\n",
       "  <pywren.future.ResponseFuture at 0x11f802748>,\n",
       "  <pywren.future.ResponseFuture at 0x124bb4710>,\n",
       "  <pywren.future.ResponseFuture at 0x11844d048>,\n",
       "  <pywren.future.ResponseFuture at 0x1155f3f28>,\n",
       "  <pywren.future.ResponseFuture at 0x118436b70>,\n",
       "  <pywren.future.ResponseFuture at 0x1152f7c50>,\n",
       "  <pywren.future.ResponseFuture at 0x10b280940>,\n",
       "  <pywren.future.ResponseFuture at 0x11845dd30>,\n",
       "  <pywren.future.ResponseFuture at 0x11845d630>,\n",
       "  <pywren.future.ResponseFuture at 0x1152f7be0>,\n",
       "  <pywren.future.ResponseFuture at 0x11f7f2c50>,\n",
       "  <pywren.future.ResponseFuture at 0x124b43c18>,\n",
       "  <pywren.future.ResponseFuture at 0x1245e8470>,\n",
       "  <pywren.future.ResponseFuture at 0x11f7f6518>,\n",
       "  <pywren.future.ResponseFuture at 0x111d7a668>,\n",
       "  <pywren.future.ResponseFuture at 0x1152f7828>,\n",
       "  <pywren.future.ResponseFuture at 0x11f89ab38>,\n",
       "  <pywren.future.ResponseFuture at 0x1152eb9b0>,\n",
       "  <pywren.future.ResponseFuture at 0x11f802a58>,\n",
       "  <pywren.future.ResponseFuture at 0x124b43400>,\n",
       "  <pywren.future.ResponseFuture at 0x11f7f6cf8>,\n",
       "  <pywren.future.ResponseFuture at 0x11f7f7e10>,\n",
       "  <pywren.future.ResponseFuture at 0x11f7f6860>,\n",
       "  <pywren.future.ResponseFuture at 0x11f89a978>,\n",
       "  <pywren.future.ResponseFuture at 0x1176721d0>,\n",
       "  <pywren.future.ResponseFuture at 0x11f89aef0>,\n",
       "  <pywren.future.ResponseFuture at 0x117686cf8>,\n",
       "  <pywren.future.ResponseFuture at 0x11f89a198>,\n",
       "  <pywren.future.ResponseFuture at 0x1188c9048>,\n",
       "  <pywren.future.ResponseFuture at 0x11f7f2400>,\n",
       "  <pywren.future.ResponseFuture at 0x1184793c8>,\n",
       "  <pywren.future.ResponseFuture at 0x11f89a6d8>,\n",
       "  <pywren.future.ResponseFuture at 0x11f7f2eb8>,\n",
       "  <pywren.future.ResponseFuture at 0x11f7f7278>,\n",
       "  <pywren.future.ResponseFuture at 0x11844d470>,\n",
       "  <pywren.future.ResponseFuture at 0x11844d780>,\n",
       "  <pywren.future.ResponseFuture at 0x11f802fd0>,\n",
       "  <pywren.future.ResponseFuture at 0x118479240>,\n",
       "  <pywren.future.ResponseFuture at 0x10b280dd8>,\n",
       "  <pywren.future.ResponseFuture at 0x118479470>,\n",
       "  <pywren.future.ResponseFuture at 0x117686cc0>,\n",
       "  <pywren.future.ResponseFuture at 0x11f958198>,\n",
       "  <pywren.future.ResponseFuture at 0x117664780>,\n",
       "  <pywren.future.ResponseFuture at 0x115520898>,\n",
       "  <pywren.future.ResponseFuture at 0x11845da58>,\n",
       "  <pywren.future.ResponseFuture at 0x10b280828>,\n",
       "  <pywren.future.ResponseFuture at 0x124948dd8>,\n",
       "  <pywren.future.ResponseFuture at 0x11767d128>,\n",
       "  <pywren.future.ResponseFuture at 0x11845dc88>,\n",
       "  <pywren.future.ResponseFuture at 0x1176644a8>,\n",
       "  <pywren.future.ResponseFuture at 0x11f7f2780>,\n",
       "  <pywren.future.ResponseFuture at 0x11845d940>,\n",
       "  <pywren.future.ResponseFuture at 0x11844dc88>,\n",
       "  <pywren.future.ResponseFuture at 0x11767d048>,\n",
       "  <pywren.future.ResponseFuture at 0x117686940>,\n",
       "  <pywren.future.ResponseFuture at 0x1152eb630>,\n",
       "  <pywren.future.ResponseFuture at 0x11844dc18>,\n",
       "  <pywren.future.ResponseFuture at 0x11845d1d0>,\n",
       "  <pywren.future.ResponseFuture at 0x117686be0>,\n",
       "  <pywren.future.ResponseFuture at 0x1152eb438>,\n",
       "  <pywren.future.ResponseFuture at 0x11767d898>,\n",
       "  <pywren.future.ResponseFuture at 0x11845dc18>,\n",
       "  <pywren.future.ResponseFuture at 0x11767d860>,\n",
       "  <pywren.future.ResponseFuture at 0x117686f60>,\n",
       "  <pywren.future.ResponseFuture at 0x115520eb8>,\n",
       "  <pywren.future.ResponseFuture at 0x1152ebf60>,\n",
       "  <pywren.future.ResponseFuture at 0x1246ca080>,\n",
       "  <pywren.future.ResponseFuture at 0x11767d080>,\n",
       "  <pywren.future.ResponseFuture at 0x11845d048>,\n",
       "  <pywren.future.ResponseFuture at 0x1152eb278>,\n",
       "  <pywren.future.ResponseFuture at 0x1152eb518>,\n",
       "  <pywren.future.ResponseFuture at 0x1152f7320>,\n",
       "  <pywren.future.ResponseFuture at 0x11767d780>,\n",
       "  <pywren.future.ResponseFuture at 0x1176863c8>,\n",
       "  <pywren.future.ResponseFuture at 0x12477f048>,\n",
       "  <pywren.future.ResponseFuture at 0x11767d978>,\n",
       "  <pywren.future.ResponseFuture at 0x118479cf8>,\n",
       "  <pywren.future.ResponseFuture at 0x1152f7710>,\n",
       "  <pywren.future.ResponseFuture at 0x117686c18>,\n",
       "  <pywren.future.ResponseFuture at 0x11767d0b8>,\n",
       "  <pywren.future.ResponseFuture at 0x1176868d0>,\n",
       "  <pywren.future.ResponseFuture at 0x1152ebc88>,\n",
       "  <pywren.future.ResponseFuture at 0x1152f73c8>,\n",
       "  <pywren.future.ResponseFuture at 0x1152eb9e8>,\n",
       "  <pywren.future.ResponseFuture at 0x11f7f2668>,\n",
       "  <pywren.future.ResponseFuture at 0x120521fd0>,\n",
       "  <pywren.future.ResponseFuture at 0x11f7f27f0>,\n",
       "  <pywren.future.ResponseFuture at 0x1152f7390>,\n",
       "  <pywren.future.ResponseFuture at 0x117686ba8>,\n",
       "  <pywren.future.ResponseFuture at 0x11767d0f0>,\n",
       "  <pywren.future.ResponseFuture at 0x11844db38>,\n",
       "  <pywren.future.ResponseFuture at 0x11f7f2710>,\n",
       "  <pywren.future.ResponseFuture at 0x11f7f26a0>,\n",
       "  <pywren.future.ResponseFuture at 0x120521710>,\n",
       "  <pywren.future.ResponseFuture at 0x115520c88>,\n",
       "  <pywren.future.ResponseFuture at 0x11f7f26d8>,\n",
       "  <pywren.future.ResponseFuture at 0x1152ebf98>,\n",
       "  <pywren.future.ResponseFuture at 0x11767d390>,\n",
       "  <pywren.future.ResponseFuture at 0x11767dd30>,\n",
       "  <pywren.future.ResponseFuture at 0x11767d160>,\n",
       "  <pywren.future.ResponseFuture at 0x115520860>,\n",
       "  <pywren.future.ResponseFuture at 0x115520198>,\n",
       "  <pywren.future.ResponseFuture at 0x115520f60>,\n",
       "  <pywren.future.ResponseFuture at 0x115520c18>,\n",
       "  <pywren.future.ResponseFuture at 0x115321048>,\n",
       "  <pywren.future.ResponseFuture at 0x115550f98>,\n",
       "  <pywren.future.ResponseFuture at 0x1152ebb00>,\n",
       "  <pywren.future.ResponseFuture at 0x11845d898>,\n",
       "  <pywren.future.ResponseFuture at 0x115550ba8>,\n",
       "  <pywren.future.ResponseFuture at 0x11845d748>,\n",
       "  <pywren.future.ResponseFuture at 0x115321e80>,\n",
       "  <pywren.future.ResponseFuture at 0x11767d8d0>,\n",
       "  <pywren.future.ResponseFuture at 0x115520b00>,\n",
       "  <pywren.future.ResponseFuture at 0x118479588>,\n",
       "  <pywren.future.ResponseFuture at 0x1184799b0>,\n",
       "  <pywren.future.ResponseFuture at 0x11844dbe0>,\n",
       "  <pywren.future.ResponseFuture at 0x11844da58>,\n",
       "  <pywren.future.ResponseFuture at 0x1152ebef0>,\n",
       "  <pywren.future.ResponseFuture at 0x11767da58>,\n",
       "  <pywren.future.ResponseFuture at 0x11f7f2d68>,\n",
       "  <pywren.future.ResponseFuture at 0x1152eb780>,\n",
       "  <pywren.future.ResponseFuture at 0x11845da20>,\n",
       "  <pywren.future.ResponseFuture at 0x11845d7f0>,\n",
       "  <pywren.future.ResponseFuture at 0x11845d2e8>,\n",
       "  <pywren.future.ResponseFuture at 0x1152eb940>,\n",
       "  <pywren.future.ResponseFuture at 0x1152eb0b8>,\n",
       "  <pywren.future.ResponseFuture at 0x1152ebcc0>],\n",
       " [])"
      ]
     },
     "execution_count": 225,
     "metadata": {},
     "output_type": "execute_result"
    }
   ],
   "source": [
    "%time pywren.wait(futures)"
   ]
  },
  {
   "cell_type": "code",
   "execution_count": 226,
   "metadata": {},
   "outputs": [],
   "source": [
    "results = [f.result() for f in futures]"
   ]
  },
  {
   "cell_type": "code",
   "execution_count": 227,
   "metadata": {},
   "outputs": [
    {
     "name": "stdout",
     "output_type": "stream",
     "text": [
      "CPU times: user 5.79 s, sys: 1.03 s, total: 6.83 s\n",
      "Wall time: 4.49 s\n"
     ]
    }
   ],
   "source": [
    "%time futures = pwex.map(lambda x: find_argmin(x, D_train_sharded), sorted(D_train_sharded.block_idxs))"
   ]
  },
  {
   "cell_type": "code",
   "execution_count": 228,
   "metadata": {},
   "outputs": [
    {
     "name": "stdout",
     "output_type": "stream",
     "text": [
      "CPU times: user 4.76 s, sys: 626 ms, total: 5.38 s\n",
      "Wall time: 25.6 s\n"
     ]
    },
    {
     "data": {
      "text/plain": [
       "([<pywren.future.ResponseFuture at 0x1200e32b0>,\n",
       "  <pywren.future.ResponseFuture at 0x11ffc3550>,\n",
       "  <pywren.future.ResponseFuture at 0x1200f73c8>,\n",
       "  <pywren.future.ResponseFuture at 0x11f6825c0>,\n",
       "  <pywren.future.ResponseFuture at 0x120198c18>,\n",
       "  <pywren.future.ResponseFuture at 0x12475d940>,\n",
       "  <pywren.future.ResponseFuture at 0x1175ef518>,\n",
       "  <pywren.future.ResponseFuture at 0x12475df28>,\n",
       "  <pywren.future.ResponseFuture at 0x11527c128>,\n",
       "  <pywren.future.ResponseFuture at 0x117686da0>,\n",
       "  <pywren.future.ResponseFuture at 0x117672a90>,\n",
       "  <pywren.future.ResponseFuture at 0x117664668>,\n",
       "  <pywren.future.ResponseFuture at 0x1254f16a0>,\n",
       "  <pywren.future.ResponseFuture at 0x115321c18>,\n",
       "  <pywren.future.ResponseFuture at 0x115458908>,\n",
       "  <pywren.future.ResponseFuture at 0x118d646d8>,\n",
       "  <pywren.future.ResponseFuture at 0x118d64e80>,\n",
       "  <pywren.future.ResponseFuture at 0x115595cc0>,\n",
       "  <pywren.future.ResponseFuture at 0x12494fdd8>,\n",
       "  <pywren.future.ResponseFuture at 0x114a7a550>,\n",
       "  <pywren.future.ResponseFuture at 0x1254f1ba8>,\n",
       "  <pywren.future.ResponseFuture at 0x117605ef0>,\n",
       "  <pywren.future.ResponseFuture at 0x1204eee48>,\n",
       "  <pywren.future.ResponseFuture at 0x115470c18>,\n",
       "  <pywren.future.ResponseFuture at 0x1200f7b00>,\n",
       "  <pywren.future.ResponseFuture at 0x11f682630>,\n",
       "  <pywren.future.ResponseFuture at 0x115550c18>,\n",
       "  <pywren.future.ResponseFuture at 0x11844d0b8>,\n",
       "  <pywren.future.ResponseFuture at 0x11883f9b0>,\n",
       "  <pywren.future.ResponseFuture at 0x1200f7748>,\n",
       "  <pywren.future.ResponseFuture at 0x1155209b0>,\n",
       "  <pywren.future.ResponseFuture at 0x1176054e0>,\n",
       "  <pywren.future.ResponseFuture at 0x1245e8fd0>,\n",
       "  <pywren.future.ResponseFuture at 0x115520f98>,\n",
       "  <pywren.future.ResponseFuture at 0x12494f278>,\n",
       "  <pywren.future.ResponseFuture at 0x118d64ba8>,\n",
       "  <pywren.future.ResponseFuture at 0x11840bdd8>,\n",
       "  <pywren.future.ResponseFuture at 0x117686fd0>,\n",
       "  <pywren.future.ResponseFuture at 0x115520320>,\n",
       "  <pywren.future.ResponseFuture at 0x117686710>,\n",
       "  <pywren.future.ResponseFuture at 0x124b430b8>,\n",
       "  <pywren.future.ResponseFuture at 0x12477f588>,\n",
       "  <pywren.future.ResponseFuture at 0x11ffc3c88>,\n",
       "  <pywren.future.ResponseFuture at 0x118d64198>,\n",
       "  <pywren.future.ResponseFuture at 0x115550be0>,\n",
       "  <pywren.future.ResponseFuture at 0x118479a58>,\n",
       "  <pywren.future.ResponseFuture at 0x118d64278>,\n",
       "  <pywren.future.ResponseFuture at 0x1176726d8>,\n",
       "  <pywren.future.ResponseFuture at 0x1200e3208>,\n",
       "  <pywren.future.ResponseFuture at 0x117672c50>,\n",
       "  <pywren.future.ResponseFuture at 0x11ffc3c18>,\n",
       "  <pywren.future.ResponseFuture at 0x1184794e0>,\n",
       "  <pywren.future.ResponseFuture at 0x115321a90>,\n",
       "  <pywren.future.ResponseFuture at 0x1200f72e8>,\n",
       "  <pywren.future.ResponseFuture at 0x11ffc3208>,\n",
       "  <pywren.future.ResponseFuture at 0x115520be0>,\n",
       "  <pywren.future.ResponseFuture at 0x1176867f0>,\n",
       "  <pywren.future.ResponseFuture at 0x118d64a20>,\n",
       "  <pywren.future.ResponseFuture at 0x117605400>,\n",
       "  <pywren.future.ResponseFuture at 0x1184799e8>,\n",
       "  <pywren.future.ResponseFuture at 0x124b43940>,\n",
       "  <pywren.future.ResponseFuture at 0x12494f710>,\n",
       "  <pywren.future.ResponseFuture at 0x114a90c50>,\n",
       "  <pywren.future.ResponseFuture at 0x118d64b00>,\n",
       "  <pywren.future.ResponseFuture at 0x11f682be0>,\n",
       "  <pywren.future.ResponseFuture at 0x120198fd0>,\n",
       "  <pywren.future.ResponseFuture at 0x117664e80>,\n",
       "  <pywren.future.ResponseFuture at 0x117664278>,\n",
       "  <pywren.future.ResponseFuture at 0x12475df60>,\n",
       "  <pywren.future.ResponseFuture at 0x115321e48>,\n",
       "  <pywren.future.ResponseFuture at 0x118479908>,\n",
       "  <pywren.future.ResponseFuture at 0x115321b70>,\n",
       "  <pywren.future.ResponseFuture at 0x117664ef0>,\n",
       "  <pywren.future.ResponseFuture at 0x1254f18d0>,\n",
       "  <pywren.future.ResponseFuture at 0x118479358>,\n",
       "  <pywren.future.ResponseFuture at 0x1176646d8>,\n",
       "  <pywren.future.ResponseFuture at 0x11ffc32e8>,\n",
       "  <pywren.future.ResponseFuture at 0x1153215f8>,\n",
       "  <pywren.future.ResponseFuture at 0x11883f128>,\n",
       "  <pywren.future.ResponseFuture at 0x117605668>,\n",
       "  <pywren.future.ResponseFuture at 0x120198128>,\n",
       "  <pywren.future.ResponseFuture at 0x1200aac50>,\n",
       "  <pywren.future.ResponseFuture at 0x11ffc3160>,\n",
       "  <pywren.future.ResponseFuture at 0x11ffc3be0>,\n",
       "  <pywren.future.ResponseFuture at 0x115321400>,\n",
       "  <pywren.future.ResponseFuture at 0x118870940>,\n",
       "  <pywren.future.ResponseFuture at 0x111d7aeb8>,\n",
       "  <pywren.future.ResponseFuture at 0x115595940>,\n",
       "  <pywren.future.ResponseFuture at 0x1200f71d0>,\n",
       "  <pywren.future.ResponseFuture at 0x1200aacc0>,\n",
       "  <pywren.future.ResponseFuture at 0x11ffc35f8>,\n",
       "  <pywren.future.ResponseFuture at 0x11527f550>,\n",
       "  <pywren.future.ResponseFuture at 0x115321ef0>,\n",
       "  <pywren.future.ResponseFuture at 0x117664710>,\n",
       "  <pywren.future.ResponseFuture at 0x1204eec88>,\n",
       "  <pywren.future.ResponseFuture at 0x115458c88>,\n",
       "  <pywren.future.ResponseFuture at 0x124b43a20>,\n",
       "  <pywren.future.ResponseFuture at 0x117605390>,\n",
       "  <pywren.future.ResponseFuture at 0x1201982e8>,\n",
       "  <pywren.future.ResponseFuture at 0x1176649b0>,\n",
       "  <pywren.future.ResponseFuture at 0x12494ff98>,\n",
       "  <pywren.future.ResponseFuture at 0x1154b8be0>,\n",
       "  <pywren.future.ResponseFuture at 0x1245aeba8>,\n",
       "  <pywren.future.ResponseFuture at 0x115595eb8>,\n",
       "  <pywren.future.ResponseFuture at 0x115458b00>,\n",
       "  <pywren.future.ResponseFuture at 0x11ffc3400>,\n",
       "  <pywren.future.ResponseFuture at 0x117664d68>,\n",
       "  <pywren.future.ResponseFuture at 0x1182aec50>,\n",
       "  <pywren.future.ResponseFuture at 0x117605dd8>,\n",
       "  <pywren.future.ResponseFuture at 0x1176728d0>,\n",
       "  <pywren.future.ResponseFuture at 0x1254f19e8>,\n",
       "  <pywren.future.ResponseFuture at 0x1200f7ef0>,\n",
       "  <pywren.future.ResponseFuture at 0x11883fe48>,\n",
       "  <pywren.future.ResponseFuture at 0x117672c18>,\n",
       "  <pywren.future.ResponseFuture at 0x115520550>,\n",
       "  <pywren.future.ResponseFuture at 0x1176866a0>,\n",
       "  <pywren.future.ResponseFuture at 0x11f89a5c0>,\n",
       "  <pywren.future.ResponseFuture at 0x11844d8d0>,\n",
       "  <pywren.future.ResponseFuture at 0x115595748>,\n",
       "  <pywren.future.ResponseFuture at 0x11845df98>,\n",
       "  <pywren.future.ResponseFuture at 0x11ffc3d30>,\n",
       "  <pywren.future.ResponseFuture at 0x117605ba8>,\n",
       "  <pywren.future.ResponseFuture at 0x1175ef400>,\n",
       "  <pywren.future.ResponseFuture at 0x118479a90>,\n",
       "  <pywren.future.ResponseFuture at 0x1155207f0>,\n",
       "  <pywren.future.ResponseFuture at 0x117664b38>,\n",
       "  <pywren.future.ResponseFuture at 0x11767d668>,\n",
       "  <pywren.future.ResponseFuture at 0x1200aab70>,\n",
       "  <pywren.future.ResponseFuture at 0x124982080>,\n",
       "  <pywren.future.ResponseFuture at 0x11f802d30>,\n",
       "  <pywren.future.ResponseFuture at 0x11ffc3080>,\n",
       "  <pywren.future.ResponseFuture at 0x11883fd68>,\n",
       "  <pywren.future.ResponseFuture at 0x120198390>,\n",
       "  <pywren.future.ResponseFuture at 0x124982940>,\n",
       "  <pywren.future.ResponseFuture at 0x11568cf60>,\n",
       "  <pywren.future.ResponseFuture at 0x1200aa710>,\n",
       "  <pywren.future.ResponseFuture at 0x111d7a5f8>,\n",
       "  <pywren.future.ResponseFuture at 0x11845dc50>,\n",
       "  <pywren.future.ResponseFuture at 0x115470a90>,\n",
       "  <pywren.future.ResponseFuture at 0x11f802d68>,\n",
       "  <pywren.future.ResponseFuture at 0x11f89a630>,\n",
       "  <pywren.future.ResponseFuture at 0x11f87cf98>,\n",
       "  <pywren.future.ResponseFuture at 0x1200aadd8>,\n",
       "  <pywren.future.ResponseFuture at 0x1200aa9e8>,\n",
       "  <pywren.future.ResponseFuture at 0x114a99128>,\n",
       "  <pywren.future.ResponseFuture at 0x11527f828>,\n",
       "  <pywren.future.ResponseFuture at 0x1201989e8>,\n",
       "  <pywren.future.ResponseFuture at 0x11844d550>,\n",
       "  <pywren.future.ResponseFuture at 0x1154b8128>,\n",
       "  <pywren.future.ResponseFuture at 0x10b280ef0>,\n",
       "  <pywren.future.ResponseFuture at 0x114a90128>,\n",
       "  <pywren.future.ResponseFuture at 0x11f802c88>,\n",
       "  <pywren.future.ResponseFuture at 0x11f8022e8>,\n",
       "  <pywren.future.ResponseFuture at 0x115470d30>,\n",
       "  <pywren.future.ResponseFuture at 0x1200f7470>,\n",
       "  <pywren.future.ResponseFuture at 0x1200f7f98>,\n",
       "  <pywren.future.ResponseFuture at 0x11f89a7b8>,\n",
       "  <pywren.future.ResponseFuture at 0x124b43898>,\n",
       "  <pywren.future.ResponseFuture at 0x114a99a20>,\n",
       "  <pywren.future.ResponseFuture at 0x11f802ba8>,\n",
       "  <pywren.future.ResponseFuture at 0x11527f518>,\n",
       "  <pywren.future.ResponseFuture at 0x11845d320>,\n",
       "  <pywren.future.ResponseFuture at 0x11527fba8>,\n",
       "  <pywren.future.ResponseFuture at 0x11f7f29e8>,\n",
       "  <pywren.future.ResponseFuture at 0x10b2ca470>,\n",
       "  <pywren.future.ResponseFuture at 0x11f87cc18>,\n",
       "  <pywren.future.ResponseFuture at 0x11f802390>,\n",
       "  <pywren.future.ResponseFuture at 0x115595d30>,\n",
       "  <pywren.future.ResponseFuture at 0x10b2ca6d8>,\n",
       "  <pywren.future.ResponseFuture at 0x10b2caba8>,\n",
       "  <pywren.future.ResponseFuture at 0x11840d780>,\n",
       "  <pywren.future.ResponseFuture at 0x11840db38>,\n",
       "  <pywren.future.ResponseFuture at 0x118d64d30>,\n",
       "  <pywren.future.ResponseFuture at 0x124b43be0>,\n",
       "  <pywren.future.ResponseFuture at 0x117609f98>,\n",
       "  <pywren.future.ResponseFuture at 0x124b43438>,\n",
       "  <pywren.future.ResponseFuture at 0x11527f8d0>,\n",
       "  <pywren.future.ResponseFuture at 0x114a99e48>,\n",
       "  <pywren.future.ResponseFuture at 0x11f8e8a20>,\n",
       "  <pywren.future.ResponseFuture at 0x11f89a5f8>,\n",
       "  <pywren.future.ResponseFuture at 0x1245e84e0>,\n",
       "  <pywren.future.ResponseFuture at 0x11f8020f0>,\n",
       "  <pywren.future.ResponseFuture at 0x11ffc3438>,\n",
       "  <pywren.future.ResponseFuture at 0x10b2ca2e8>,\n",
       "  <pywren.future.ResponseFuture at 0x124b43518>,\n",
       "  <pywren.future.ResponseFuture at 0x11f91d048>,\n",
       "  <pywren.future.ResponseFuture at 0x11f802cc0>,\n",
       "  <pywren.future.ResponseFuture at 0x11f802f98>,\n",
       "  <pywren.future.ResponseFuture at 0x1182c0320>,\n",
       "  <pywren.future.ResponseFuture at 0x11f89a208>,\n",
       "  <pywren.future.ResponseFuture at 0x11845d978>,\n",
       "  <pywren.future.ResponseFuture at 0x1249823c8>,\n",
       "  <pywren.future.ResponseFuture at 0x11840d198>,\n",
       "  <pywren.future.ResponseFuture at 0x1200aa358>,\n",
       "  <pywren.future.ResponseFuture at 0x11844d9b0>,\n",
       "  <pywren.future.ResponseFuture at 0x1182be438>,\n",
       "  <pywren.future.ResponseFuture at 0x11f7f2860>,\n",
       "  <pywren.future.ResponseFuture at 0x1154520f0>,\n",
       "  <pywren.future.ResponseFuture at 0x10b2ca5c0>,\n",
       "  <pywren.future.ResponseFuture at 0x1249829e8>,\n",
       "  <pywren.future.ResponseFuture at 0x115452fd0>,\n",
       "  <pywren.future.ResponseFuture at 0x10b2ca1d0>,\n",
       "  <pywren.future.ResponseFuture at 0x117664358>,\n",
       "  <pywren.future.ResponseFuture at 0x11845dbe0>,\n",
       "  <pywren.future.ResponseFuture at 0x11f8e88d0>,\n",
       "  <pywren.future.ResponseFuture at 0x11840d2b0>,\n",
       "  <pywren.future.ResponseFuture at 0x1200e3d68>,\n",
       "  <pywren.future.ResponseFuture at 0x11f802828>,\n",
       "  <pywren.future.ResponseFuture at 0x11845de48>,\n",
       "  <pywren.future.ResponseFuture at 0x1182c0b00>,\n",
       "  <pywren.future.ResponseFuture at 0x10b2cacc0>,\n",
       "  <pywren.future.ResponseFuture at 0x1200e3978>,\n",
       "  <pywren.future.ResponseFuture at 0x1200f7160>,\n",
       "  <pywren.future.ResponseFuture at 0x125513be0>,\n",
       "  <pywren.future.ResponseFuture at 0x111d7a470>,\n",
       "  <pywren.future.ResponseFuture at 0x125513828>,\n",
       "  <pywren.future.ResponseFuture at 0x114a73080>,\n",
       "  <pywren.future.ResponseFuture at 0x11840d518>,\n",
       "  <pywren.future.ResponseFuture at 0x124b43240>,\n",
       "  <pywren.future.ResponseFuture at 0x11f9493c8>,\n",
       "  <pywren.future.ResponseFuture at 0x117664048>,\n",
       "  <pywren.future.ResponseFuture at 0x120198400>,\n",
       "  <pywren.future.ResponseFuture at 0x117664c18>,\n",
       "  <pywren.future.ResponseFuture at 0x11f9495c0>,\n",
       "  <pywren.future.ResponseFuture at 0x11f802208>],\n",
       " [])"
      ]
     },
     "execution_count": 228,
     "metadata": {},
     "output_type": "execute_result"
    }
   ],
   "source": [
    "%time pywren.wait(futures)"
   ]
  },
  {
   "cell_type": "code",
   "execution_count": 229,
   "metadata": {
    "collapsed": true
   },
   "outputs": [],
   "source": [
    "results = [f.result() for f in futures]"
   ]
  },
  {
   "cell_type": "code",
   "execution_count": 232,
   "metadata": {},
   "outputs": [
    {
     "name": "stdout",
     "output_type": "stream",
     "text": [
      "Training Accuracy is  1.0\n"
     ]
    }
   ],
   "source": [
    "print(\"Training Accuracy is \", metrics.accuracy_score(y_train, y_train[compute_results_from_pywren(results)]))"
   ]
  },
  {
   "cell_type": "code",
   "execution_count": null,
   "metadata": {
    "collapsed": true
   },
   "outputs": [],
   "source": []
  }
 ],
 "metadata": {
  "kernelspec": {
   "display_name": "Python 3",
   "language": "python",
   "name": "python3"
  },
  "language_info": {
   "codemirror_mode": {
    "name": "ipython",
    "version": 3
   },
   "file_extension": ".py",
   "mimetype": "text/x-python",
   "name": "python",
   "nbconvert_exporter": "python",
   "pygments_lexer": "ipython3",
   "version": "3.6.1"
  }
 },
 "nbformat": 4,
 "nbformat_minor": 2
}
