{
 "cells": [
  {
   "cell_type": "markdown",
   "metadata": {},
   "source": [
    "### PyWren RISECamp, 2017"
   ]
  },
  {
   "cell_type": "markdown",
   "metadata": {},
   "source": [
    "Welcome to the hands-on tutorial for PyWren.\n",
    "\n",
    "This tutorial consists of a set of exercises that will have you working directly with PyWren:\n",
    "- simple matrix multiplication\n",
    "- data analysis on a wikipedia dataset\n",
    "- some machine learning algorithms (Eric's) \n"
   ]
  },
  {
   "cell_type": "markdown",
   "metadata": {},
   "source": [
    "## 0. Hello World\n",
    "\n",
    "First, let's write a simple hello program to test out PyWren.\n",
    "\n"
   ]
  },
  {
   "cell_type": "code",
   "execution_count": null,
   "metadata": {
    "collapsed": false
   },
   "outputs": [],
   "source": [
    "# some libraries that are useful for this tutorial\n",
    "import sys\n",
    "if '/pywren-setup/' not in sys.path:\n",
    "    sys.path.insert(0, '/pywren-setup/')\n",
    "from training import *\n",
    "\n",
    "# first we need to load PyWren and creates an executor instance\n",
    "import pywren\n",
    "pwex = pywren.default_executor()"
   ]
  },
  {
   "cell_type": "markdown",
   "metadata": {},
   "source": [
    "We can use the `call_async()` API on pywren executor to run the function in the cloud\n",
    "The workflow is pretty simple and looks like this:\n",
    "\n",
    "```python\n",
    "def my_func(param):\n",
    "    # do something\n",
    "    return some_result\n",
    "    \n",
    "handler = pwex.call_async(my_func, param)\n",
    "result = handler.result()\n",
    "```\n",
    "\n",
    "**Exercise**: modify the following code block to run hello world with pywren\n",
    "\n",
    "**TODO: I think we need helper function to test against the output. This gives attendees more incentive to get things right.**"
   ]
  },
  {
   "cell_type": "code",
   "execution_count": null,
   "metadata": {
    "collapsed": false
   },
   "outputs": [],
   "source": [
    "# first we need a basic hello world function\n",
    "def hello_world(param):\n",
    "    if param == 42:\n",
    "        return \"hello world!\"\n",
    "\n",
    "future = pwex.call_async()\n",
    "# on success, this line should print out \"hello world\"\n",
    "check_result_1(future.result())"
   ]
  },
  {
   "cell_type": "markdown",
   "metadata": {},
   "source": [
    "The above example runs a single function in the cloud.\n",
    "Now PyWren also has a `map()` API that allows users to run a single function with multiple parameters:\n",
    "\n",
    "```python\n",
    "handlers = pwex.map(my_func, param_list)\n",
    "pywren.wait(handlers)\n",
    "\n",
    "results = [h.result() for h in handlers]\n",
    "```\n",
    "\n",
    "**Exercise**: modify the following code block to print \"hello world\""
   ]
  },
  {
   "cell_type": "code",
   "execution_count": null,
   "metadata": {
    "collapsed": true
   },
   "outputs": [],
   "source": [
    "# do not modify code here\n",
    "def hello_world(param):\n",
    "    if param == 1:\n",
    "        return \"hello\"\n",
    "    if param == 2:\n",
    "        return \"world!\"\n",
    "# do not modify code above\n",
    "\n",
    "param_list = []\n",
    "futures = pwex.call_async(hello_world, None)\n",
    "\n",
    "results = [f.result() for f in futures] \n",
    "check_result_2(\" \".join(results))"
   ]
  },
  {
   "cell_type": "markdown",
   "metadata": {},
   "source": [
    "From the talk, you have already heard what happens behind every PyWren execution. Let's see it for real!\n",
    "\n",
    "TODO: maybe we can use plotting for a bigger job. This one is not very interesting with only two tasks. - qifan\n",
    "**Exercise**: inspect PyWren's execution by running the plotting code below"
   ]
  },
  {
   "cell_type": "code",
   "execution_count": null,
   "metadata": {
    "collapsed": false
   },
   "outputs": [],
   "source": [
    "plot_pywren_execution(futures)"
   ]
  },
  {
   "cell_type": "markdown",
   "metadata": {},
   "source": [
    "## 1. Matrix Multiplication"
   ]
  },
  {
   "cell_type": "markdown",
   "metadata": {},
   "source": [
    "One nice thing about PyWren is it allows users to integrate existing python libraries easily.\n",
    "For the following exercise, we are going to use some popular python libraries, e.g., NumPy, to work on some matrix multiplication problems."
   ]
  },
  {
   "cell_type": "code",
   "execution_count": null,
   "metadata": {
    "collapsed": true
   },
   "outputs": [],
   "source": [
    "import numpy as np\n",
    "\n",
    "def my_function(b):\n",
    "    x = np.random.normal(0, b, 1024)\n",
    "    A = np.random.normal(0, b, (1024, 1024))\n",
    "    return np.dot(A, x)\n",
    "\n",
    "pwex = pywren.default_executor()\n",
    "res = pwex.map(my_function, np.linspace(0.1, 10, 100))\n"
   ]
  },
  {
   "cell_type": "markdown",
   "metadata": {},
   "source": [
    "## 2. Data Analytics with Wikipedia Dataset"
   ]
  },
  {
   "cell_type": "markdown",
   "metadata": {},
   "source": [
    "## 3. Some Machine Learning"
   ]
  }
 ],
 "metadata": {
  "kernelspec": {
   "display_name": "Python 3",
   "language": "python",
   "name": "python3"
  },
  "language_info": {
   "codemirror_mode": {
    "name": "ipython",
    "version": 3
   },
   "file_extension": ".py",
   "mimetype": "text/x-python",
   "name": "python",
   "nbconvert_exporter": "python",
   "pygments_lexer": "ipython3",
   "version": "3.6.0"
  }
 },
 "nbformat": 4,
 "nbformat_minor": 2
}
