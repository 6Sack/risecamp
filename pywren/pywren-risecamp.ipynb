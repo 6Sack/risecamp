{
 "cells": [
  {
   "cell_type": "markdown",
   "metadata": {},
   "source": [
    "### PyWren RISECamp, 2017"
   ]
  },
  {
   "cell_type": "code",
   "execution_count": 101,
   "metadata": {},
   "outputs": [
    {
     "name": "stdout",
     "output_type": "stream",
     "text": [
      "Populating the interactive namespace from numpy and matplotlib\n"
     ]
    }
   ],
   "source": [
    "%pylab inline\n",
    "import boto3\n",
    "import cloudpickle\n",
    "import itertools\n",
    "import concurrent.futures as fs\n",
    "import io\n",
    "import numpy as np\n",
    "import time"
   ]
  },
  {
   "cell_type": "markdown",
   "metadata": {},
   "source": [
    "Welcome to the hands-on tutorial for PyWren.\n",
    "\n",
    "This tutorial consists of a set of exercises that will have you working directly with PyWren:\n",
    "- simple matrix multiplication\n",
    "- data analysis on a wikipedia dataset\n",
    "- some machine learning algorithms (Eric's) \n"
   ]
  },
  {
   "cell_type": "markdown",
   "metadata": {},
   "source": [
    "## 0. Hello World\n",
    "\n",
    "First, let's write a simple hello program to test out PyWren.\n",
    "\n"
   ]
  },
  {
   "cell_type": "code",
   "execution_count": 2,
   "metadata": {
    "collapsed": true
   },
   "outputs": [],
   "source": [
    "# first we need to load PyWren and creates an executor instance\n",
    "import pywren\n",
    "pwex = pywren.default_executor()"
   ]
  },
  {
   "cell_type": "markdown",
   "metadata": {},
   "source": [
    "We can use the `call_async()` API on pywren executor to run the function in the cloud\n",
    "The workflow is pretty simple and looks like this:\n",
    "\n",
    "```python\n",
    "def my_func(param):\n",
    "    # do something\n",
    "    return some_result\n",
    "    \n",
    "handler = pwex.call_async(my_func, param)\n",
    "result = handler.result()\n",
    "```\n",
    "\n",
    "**Exercise**: modify the following code block to run hello world with pywren\n",
    "\n",
    "**TODO: I think we need helper function to test against the output. This gives attendees more incentive to get things right.**"
   ]
  },
  {
   "cell_type": "code",
   "execution_count": 7,
   "metadata": {},
   "outputs": [
    {
     "name": "stdout",
     "output_type": "stream",
     "text": [
      "hello world!\n"
     ]
    }
   ],
   "source": [
    "# first we need a basic hello world function\n",
    "def hello_world(param):\n",
    "    return \"hello world!\"\n",
    "\n",
    "handler = pwex.call_async(hello_world, 0) \n",
    "# on success, this line should print out \"hello world\"\n",
    "print(handler.result())"
   ]
  },
  {
   "cell_type": "markdown",
   "metadata": {},
   "source": [
    "The above example runs a single function in the cloud.\n",
    "Now PyWren also has a `map()` API that allows users to run a single function with multiple parameters:\n",
    "\n",
    "```python\n",
    "handlers = pwex.map(my_func, param_list)\n",
    "pywren.wait(handlers)\n",
    "\n",
    "results = [h.result() for h in handlers]\n",
    "```\n",
    "\n",
    "**Exercise**: modify the following code block to print \"hello world\""
   ]
  },
  {
   "cell_type": "code",
   "execution_count": null,
   "metadata": {
    "collapsed": true
   },
   "outputs": [],
   "source": [
    "# do not modify code here\n",
    "def hello_world(param):\n",
    "    if param == 1:\n",
    "        return \"hello\"\n",
    "    if param == 2:\n",
    "        return \"world!\"\n",
    "# do not modify code above\n",
    "\n",
    "param_list = []\n",
    "handlers = pwex.call_async(hello_world, None)\n",
    "\n",
    "results = [h.result() for h in handlers] \n",
    "print(\" \".join(results))"
   ]
  },
  {
   "cell_type": "markdown",
   "metadata": {},
   "source": [
    "## 1. Matrix Multiplication"
   ]
  },
  {
   "cell_type": "markdown",
   "metadata": {},
   "source": [
    "One nice thing about PyWren is it allows users to integrate existing python libraries easily.\n",
    "For the following exercise, we are going to use some popular python libraries, e.g., NumPy, to work on some matrix multiplication problems."
   ]
  },
  {
   "cell_type": "code",
   "execution_count": null,
   "metadata": {
    "collapsed": true
   },
   "outputs": [],
   "source": [
    "import numpy as np\n",
    "\n",
    "def my_function(b):\n",
    "    x = np.random.normal(0, b, 1024)\n",
    "    A = np.random.normal(0, b, (1024, 1024))\n",
    "    return np.dot(A, x)\n",
    "\n",
    "pwex = pywren.default_executor()\n",
    "res = pwex.map(my_function, np.linspace(0.1, 10, 100))\n"
   ]
  },
  {
   "cell_type": "markdown",
   "metadata": {},
   "source": [
    "## 2. Data Analytics with Wikipedia Dataset"
   ]
  },
  {
   "cell_type": "markdown",
   "metadata": {},
   "source": [
    "## 3. Some Machine Learning"
   ]
  },
  {
   "cell_type": "code",
   "execution_count": 11,
   "metadata": {
    "collapsed": true
   },
   "outputs": [],
   "source": [
    "from sklearn.datasets import fetch_mldata\n",
    "import matrix\n",
    "import numpy as np\n",
    "import pywren"
   ]
  },
  {
   "cell_type": "code",
   "execution_count": 4,
   "metadata": {},
   "outputs": [],
   "source": [
    "X = np.random.randn(32768,128)"
   ]
  },
  {
   "cell_type": "code",
   "execution_count": 7,
   "metadata": {
    "collapsed": true
   },
   "outputs": [],
   "source": [
    "X_sharded = matrix.ShardedMatrix(\"x\", bucket=\"vaishaalpywren\", shape=X.shape, shard_size_0=4096)"
   ]
  },
  {
   "cell_type": "code",
   "execution_count": 8,
   "metadata": {},
   "outputs": [
    {
     "name": "stdout",
     "output_type": "stream",
     "text": [
      "[((0, 4096), (0, 128)), ((4096, 8192), (0, 128)), ((8192, 12288), (0, 128)), ((12288, 16384), (0, 128)), ((16384, 20480), (0, 128)), ((20480, 24576), (0, 128)), ((24576, 28672), (0, 128)), ((28672, 32768), (0, 128))]\n"
     ]
    },
    {
     "data": {
      "text/plain": [
       "0"
      ]
     },
     "execution_count": 8,
     "metadata": {},
     "output_type": "execute_result"
    }
   ],
   "source": [
    "X_sharded.shard_matrix(np.random.randn(32768,128), n_jobs=10)"
   ]
  },
  {
   "cell_type": "code",
   "execution_count": 16,
   "metadata": {},
   "outputs": [],
   "source": [
    "def xyt(x,y, z, blocks):\n",
    "    block0, block1 = blocks\n",
    "    submatrix_0 = x.get_block(block0, 0)\n",
    "    submatrix_1 = y.get_block(block1, 0)\n",
    "    out_matrix = submatrix_0.dot(submatrix_1.T)\n",
    "    z.put_block(block0, block1, out_matrix)\n",
    "    return 0\n",
    "\n",
    "\n",
    "x_sharded = matrix.ShardedMatrix(\"x\", bucket=\"vaishaalpywren\", shape=X.shape, shard_size_0=4096)\n",
    "xxt_sharded = matrix.ShardedMatrix(\"z\", bucket=\"vaishaalpywren\", shape=(X.shape[0], X.shape[0]), shard_size_0=4096, shard_size_1=4096)\n",
    "\n",
    "pwex = pywren.default_executor()\n",
    "\n",
    "futures0 = pwex.map(lambda a: xyt(x_sharded, x_sharded, xxt_sharded, a), xxt_sharded.block_idxs_not_exist)\n"
   ]
  },
  {
   "cell_type": "code",
   "execution_count": 18,
   "metadata": {},
   "outputs": [
    {
     "data": {
      "text/plain": [
       "([<pywren.future.ResponseFuture at 0x1197f10b8>,\n",
       "  <pywren.future.ResponseFuture at 0x1178c40f0>,\n",
       "  <pywren.future.ResponseFuture at 0x118382080>,\n",
       "  <pywren.future.ResponseFuture at 0x119696ef0>,\n",
       "  <pywren.future.ResponseFuture at 0x10a3bb4e0>,\n",
       "  <pywren.future.ResponseFuture at 0x118359f60>,\n",
       "  <pywren.future.ResponseFuture at 0x119c10080>,\n",
       "  <pywren.future.ResponseFuture at 0x1182e3ac8>,\n",
       "  <pywren.future.ResponseFuture at 0x10a3bb048>,\n",
       "  <pywren.future.ResponseFuture at 0x11836c668>,\n",
       "  <pywren.future.ResponseFuture at 0x11836c8d0>,\n",
       "  <pywren.future.ResponseFuture at 0x11a0521d0>,\n",
       "  <pywren.future.ResponseFuture at 0x1178c1668>,\n",
       "  <pywren.future.ResponseFuture at 0x119696f60>,\n",
       "  <pywren.future.ResponseFuture at 0x10a3bb278>,\n",
       "  <pywren.future.ResponseFuture at 0x1178c1390>,\n",
       "  <pywren.future.ResponseFuture at 0x10f7966a0>,\n",
       "  <pywren.future.ResponseFuture at 0x11931ecc0>,\n",
       "  <pywren.future.ResponseFuture at 0x119c100b8>,\n",
       "  <pywren.future.ResponseFuture at 0x118382048>,\n",
       "  <pywren.future.ResponseFuture at 0x10a3bba20>,\n",
       "  <pywren.future.ResponseFuture at 0x1183827b8>,\n",
       "  <pywren.future.ResponseFuture at 0x10a3bb518>,\n",
       "  <pywren.future.ResponseFuture at 0x10a3bbda0>,\n",
       "  <pywren.future.ResponseFuture at 0x11836c588>,\n",
       "  <pywren.future.ResponseFuture at 0x11836cc50>,\n",
       "  <pywren.future.ResponseFuture at 0x118382780>,\n",
       "  <pywren.future.ResponseFuture at 0x11945d908>,\n",
       "  <pywren.future.ResponseFuture at 0x1178c46d8>,\n",
       "  <pywren.future.ResponseFuture at 0x113fcf278>,\n",
       "  <pywren.future.ResponseFuture at 0x11781a710>,\n",
       "  <pywren.future.ResponseFuture at 0x11781acf8>,\n",
       "  <pywren.future.ResponseFuture at 0x10a3f34a8>,\n",
       "  <pywren.future.ResponseFuture at 0x1196964e0>,\n",
       "  <pywren.future.ResponseFuture at 0x1182e32e8>,\n",
       "  <pywren.future.ResponseFuture at 0x11837e6d8>,\n",
       "  <pywren.future.ResponseFuture at 0x10a3bbb00>,\n",
       "  <pywren.future.ResponseFuture at 0x10a3fdb00>,\n",
       "  <pywren.future.ResponseFuture at 0x119c100f0>,\n",
       "  <pywren.future.ResponseFuture at 0x118359eb8>,\n",
       "  <pywren.future.ResponseFuture at 0x1178c1240>,\n",
       "  <pywren.future.ResponseFuture at 0x11781a3c8>,\n",
       "  <pywren.future.ResponseFuture at 0x119696fd0>,\n",
       "  <pywren.future.ResponseFuture at 0x11a07cac8>,\n",
       "  <pywren.future.ResponseFuture at 0x10f7890b8>,\n",
       "  <pywren.future.ResponseFuture at 0x117a53550>,\n",
       "  <pywren.future.ResponseFuture at 0x11836c240>,\n",
       "  <pywren.future.ResponseFuture at 0x1182e39b0>,\n",
       "  <pywren.future.ResponseFuture at 0x11781acc0>,\n",
       "  <pywren.future.ResponseFuture at 0x1195bea20>,\n",
       "  <pywren.future.ResponseFuture at 0x10a3bb160>,\n",
       "  <pywren.future.ResponseFuture at 0x11836c3c8>,\n",
       "  <pywren.future.ResponseFuture at 0x11836c0b8>,\n",
       "  <pywren.future.ResponseFuture at 0x11836ce10>,\n",
       "  <pywren.future.ResponseFuture at 0x1178c4c88>,\n",
       "  <pywren.future.ResponseFuture at 0x118382f60>,\n",
       "  <pywren.future.ResponseFuture at 0x1192ee9b0>,\n",
       "  <pywren.future.ResponseFuture at 0x10a3bb588>,\n",
       "  <pywren.future.ResponseFuture at 0x11781a2e8>,\n",
       "  <pywren.future.ResponseFuture at 0x11a07cda0>,\n",
       "  <pywren.future.ResponseFuture at 0x11781ad68>,\n",
       "  <pywren.future.ResponseFuture at 0x1182e3be0>,\n",
       "  <pywren.future.ResponseFuture at 0x118382668>,\n",
       "  <pywren.future.ResponseFuture at 0x11781ac88>],\n",
       " [])"
      ]
     },
     "execution_count": 18,
     "metadata": {},
     "output_type": "execute_result"
    }
   ],
   "source": [
    "pywren.wait(futures0)"
   ]
  },
  {
   "cell_type": "code",
   "execution_count": 19,
   "metadata": {},
   "outputs": [
    {
     "data": {
      "text/plain": [
       "[0,\n",
       " 0,\n",
       " 0,\n",
       " 0,\n",
       " 0,\n",
       " 0,\n",
       " 0,\n",
       " 0,\n",
       " 0,\n",
       " 0,\n",
       " 0,\n",
       " 0,\n",
       " 0,\n",
       " 0,\n",
       " 0,\n",
       " 0,\n",
       " 0,\n",
       " 0,\n",
       " 0,\n",
       " 0,\n",
       " 0,\n",
       " 0,\n",
       " 0,\n",
       " 0,\n",
       " 0,\n",
       " 0,\n",
       " 0,\n",
       " 0,\n",
       " 0,\n",
       " 0,\n",
       " 0,\n",
       " 0,\n",
       " 0,\n",
       " 0,\n",
       " 0,\n",
       " 0,\n",
       " 0,\n",
       " 0,\n",
       " 0,\n",
       " 0,\n",
       " 0,\n",
       " 0,\n",
       " 0,\n",
       " 0,\n",
       " 0,\n",
       " 0,\n",
       " 0,\n",
       " 0,\n",
       " 0,\n",
       " 0,\n",
       " 0,\n",
       " 0,\n",
       " 0,\n",
       " 0,\n",
       " 0,\n",
       " 0,\n",
       " 0,\n",
       " 0,\n",
       " 0,\n",
       " 0,\n",
       " 0,\n",
       " 0,\n",
       " 0,\n",
       " 0]"
      ]
     },
     "execution_count": 19,
     "metadata": {},
     "output_type": "execute_result"
    }
   ],
   "source": [
    "[f.result() for f in futures0]"
   ]
  },
  {
   "cell_type": "code",
   "execution_count": 21,
   "metadata": {},
   "outputs": [
    {
     "data": {
      "text/plain": [
       "array([[ 140.17207881,    5.51050477,   -8.44600443, ...,  -20.87518709,\n",
       "           0.90908415,   10.89966011],\n",
       "       [   5.51050477,  163.04454963,  -11.39085155, ...,    6.66628488,\n",
       "           1.35222017,    9.0063894 ],\n",
       "       [  -8.44600443,  -11.39085155,  136.94271241, ...,   21.13998887,\n",
       "         -11.62821219,   -3.53400135],\n",
       "       ..., \n",
       "       [ -20.87518709,    6.66628488,   21.13998887, ...,  167.26547952,\n",
       "          -7.57375346,   -6.03390309],\n",
       "       [   0.90908415,    1.35222017,  -11.62821219, ...,   -7.57375346,\n",
       "         149.16393331,   -9.14872823],\n",
       "       [  10.89966011,    9.0063894 ,   -3.53400135, ...,   -6.03390309,\n",
       "          -9.14872823,  124.86665548]])"
      ]
     },
     "execution_count": 21,
     "metadata": {},
     "output_type": "execute_result"
    }
   ],
   "source": [
    "xxt_sharded.get_block(0,0)\n"
   ]
  },
  {
   "cell_type": "code",
   "execution_count": null,
   "metadata": {
    "collapsed": true
   },
   "outputs": [],
   "source": []
  }
 ],
 "metadata": {
  "kernelspec": {
   "display_name": "Python 3",
   "language": "python",
   "name": "python3"
  },
  "language_info": {
   "codemirror_mode": {
    "name": "ipython",
    "version": 3
   },
   "file_extension": ".py",
   "mimetype": "text/x-python",
   "name": "python",
   "nbconvert_exporter": "python",
   "pygments_lexer": "ipython3",
   "version": "3.6.1"
  }
 },
 "nbformat": 4,
 "nbformat_minor": 2
}
