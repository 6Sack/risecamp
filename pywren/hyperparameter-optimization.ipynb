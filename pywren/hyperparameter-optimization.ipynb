{
 "cells": [
  {
   "cell_type": "markdown",
   "metadata": {},
   "source": [
    "# Hyperparameter optimization for machine learning\n",
    "\n",
    "Many machine learning models have hyperparamters -- parameters that control some aspect of the model. The exact setting of these hyperparameters can dramatically impact the performance of your underlying model. Fortunately, most hyperparameters can be tried in parallel, making the task of *hyperparemter optimization* a great fit for PyWren. \n",
    "\n",
    "Here we use a simple dataset included in scikit-learn to show how to do hyperparameter optimization across a number of different datasets, and a number of different cross-validations "
   ]
  },
  {
   "cell_type": "code",
   "execution_count": 5,
   "metadata": {
    "ExecuteTime": {
     "end_time": "2017-08-31T18:42:54.299642Z",
     "start_time": "2017-08-31T18:42:53.957799Z"
    },
    "run_control": {
     "frozen": false,
     "read_only": false
    }
   },
   "outputs": [
    {
     "name": "stdout",
     "output_type": "stream",
     "text": [
      "Populating the interactive namespace from numpy and matplotlib\n"
     ]
    }
   ],
   "source": [
    "%pylab inline\n",
    "import pywren\n",
    "import sklearn\n",
    "import seaborn as sns\n",
    "import itertools\n",
    "import pandas as pd\n",
    "from sklearn.model_selection import train_test_split\n",
    "import sklearn.svm\n",
    "\n",
    "from sklearn.preprocessing import StandardScaler\n",
    "from sklearn.pipeline import make_pipeline, Pipeline\n"
   ]
  },
  {
   "cell_type": "code",
   "execution_count": 3,
   "metadata": {
    "ExecuteTime": {
     "end_time": "2017-08-31T18:41:50.229834Z",
     "start_time": "2017-08-31T18:41:49.818438Z"
    },
    "collapsed": true,
    "run_control": {
     "frozen": false,
     "read_only": false
    }
   },
   "outputs": [],
   "source": [
    "# load the dataset from scikit learn\n",
    "from sklearn.datasets import load_breast_cancer\n",
    "bc = load_breast_cancer()"
   ]
  },
  {
   "cell_type": "markdown",
   "metadata": {},
   "source": [
    "First we explore generic prediction on the dataset with an off-the-shelf classifier"
   ]
  },
  {
   "cell_type": "code",
   "execution_count": 6,
   "metadata": {
    "ExecuteTime": {
     "end_time": "2017-08-31T18:42:55.649545Z",
     "start_time": "2017-08-31T18:42:55.587170Z"
    },
    "run_control": {
     "frozen": false,
     "read_only": false
    }
   },
   "outputs": [
    {
     "data": {
      "text/plain": [
       "0.81578947368421051"
      ]
     },
     "execution_count": 6,
     "metadata": {},
     "output_type": "execute_result"
    }
   ],
   "source": [
    "\n",
    "# load the data as X and y\n",
    "X = bc['data']\n",
    "y = bc['target']\n",
    "\n",
    "# create a train/test split\n",
    "X_train, X_test, y_train, y_test = train_test_split(\n",
    "     X, y, test_size=0.2, random_state=0)\n",
    "\n",
    "# construct a scikit learn pipeline which normalizes\n",
    "# the data and then runs a SVM \n",
    "\n",
    "p = Pipeline(steps=[('standardize', StandardScaler()), \n",
    "                    ('learn', sklearn.svm.SVC(C=0.1, kernel='poly', degree=3))])\n",
    "\n",
    "\n",
    "# fit the data\n",
    "p.fit(X_train, y_train)\n",
    "\n",
    "# predict the held-out data\n",
    "pred = p.predict(X_test)\n",
    "\n",
    "# measure the accuracy\n",
    "sklearn.metrics.accuracy_score(y_test, pred)"
   ]
  },
  {
   "cell_type": "markdown",
   "metadata": {},
   "source": [
    "# use PyWren to try many HP values\n",
    "Now we try for many folds and many hyperparameters with pywren"
   ]
  },
  {
   "cell_type": "code",
   "execution_count": 7,
   "metadata": {
    "ExecuteTime": {
     "end_time": "2017-08-31T18:44:39.437861Z",
     "start_time": "2017-08-31T18:44:39.401735Z"
    },
    "collapsed": true,
    "run_control": {
     "frozen": false,
     "read_only": false
    }
   },
   "outputs": [],
   "source": [
    "# now we can train lots of models! and get error bars! \n",
    "\n",
    "def train_model(args):\n",
    "    \"\"\"\n",
    "    \n",
    "    \"\"\"\n",
    "    # extract the args\n",
    "    (X_train, X_test, y_train, y_test), hps = args\n",
    "    \n",
    "    import sklearn.svm \n",
    "    \n",
    "    # create the pipeline\n",
    "    p = Pipeline(steps=[('standardize', StandardScaler()), \n",
    "                        ('learn', sklearn.svm.SVC(**hps))])\n",
    "    \n",
    "    # fit\n",
    "    p.fit(X_train, y_train)\n",
    "    return p\n",
    "\n",
    "\n",
    "wrenexec = pywren.default_executor()\n",
    "\n",
    "\n",
    "FOLD_N = 10 # number of cross-validation sets\n",
    "\n",
    "cv_sets = []\n",
    "for i in range(FOLD_N):\n",
    "    cv_sets.append(train_test_split(\n",
    "                     X, y, test_size=0.4, random_state=i))\n",
    "\n",
    "# set of SVM hyperparameters we want to try\n",
    "hps =  [dict(C=10.0, kernel='rbf', degree=3), \n",
    "        dict(C=1.0, kernel='rbf', degree=3),\n",
    "        dict(C=0.1, kernel='rbf', degree=3)]\n",
    "\n",
    "\n",
    "# combine them all using itertools\n",
    "args = list(itertools.product(cv_sets, hps) )\n"
   ]
  },
  {
   "cell_type": "code",
   "execution_count": 8,
   "metadata": {
    "ExecuteTime": {
     "end_time": "2017-08-31T18:45:30.046184Z",
     "start_time": "2017-08-31T18:45:01.995353Z"
    },
    "collapsed": true
   },
   "outputs": [],
   "source": [
    "# perform the map                   \n",
    "futures = wrenexec.map(train_model, args)\n",
    "results = pywren.get_all_results(futures)"
   ]
  },
  {
   "cell_type": "markdown",
   "metadata": {
    "ExecuteTime": {
     "end_time": "2017-08-31T18:53:08.174061Z",
     "start_time": "2017-08-31T18:53:08.167526Z"
    }
   },
   "source": [
    "# Getting the results\n",
    "\n",
    "We construct a dataframe of the results to facilitate subsequent analysis"
   ]
  },
  {
   "cell_type": "code",
   "execution_count": 9,
   "metadata": {
    "ExecuteTime": {
     "end_time": "2017-08-31T18:46:23.543204Z",
     "start_time": "2017-08-31T18:46:23.428934Z"
    },
    "collapsed": true,
    "run_control": {
     "frozen": false,
     "read_only": false
    }
   },
   "outputs": [],
   "source": [
    "# construct a dataframe using the resulting models to predict accuracy on their held-out dataset\n",
    "res = []\n",
    "for m, ((X_train, X_test, y_train, y_test), hps) in zip(results, args):\n",
    "    pred = m.predict(X_test)\n",
    "    acc = sklearn.metrics.accuracy_score(y_test, pred)\n",
    "    hp_row = hps.copy()\n",
    "    hp_row['accuracy'] = acc\n",
    "    res.append(hp_row)\n",
    "df = pd.DataFrame(res)"
   ]
  },
  {
   "cell_type": "markdown",
   "metadata": {
    "ExecuteTime": {
     "end_time": "2017-08-31T18:53:40.177537Z",
     "start_time": "2017-08-31T18:53:40.173478Z"
    }
   },
   "source": [
    "### we use seaborn to plot the results"
   ]
  },
  {
   "cell_type": "code",
   "execution_count": 10,
   "metadata": {
    "ExecuteTime": {
     "end_time": "2017-08-31T18:46:25.745165Z",
     "start_time": "2017-08-31T18:46:25.375777Z"
    },
    "run_control": {
     "frozen": false,
     "read_only": false
    }
   },
   "outputs": [
    {
     "data": {
      "text/plain": [
       "<matplotlib.axes._subplots.AxesSubplot at 0x7f8874a994a8>"
      ]
     },
     "execution_count": 10,
     "metadata": {},
     "output_type": "execute_result"
    },
    {
     "data": {
      "image/png": "[encoded data removed]",
      "text/plain": [
       "<matplotlib.figure.Figure at 0x7f8874a274a8>"
      ]
     },
     "metadata": {},
     "output_type": "display_data"
    }
   ],
   "source": [
    "sns.boxplot(x='C', y='accuracy', data=df)\n",
    "sns.stripplot(x='C', y='accuracy', data=df, color='k', jitter=True)\n"
   ]
  }
 ],
 "metadata": {
  "kernelspec": {
   "display_name": "Python 3",
   "language": "python",
   "name": "python3"
  },
  "language_info": {
   "codemirror_mode": {
    "name": "ipython",
    "version": 3
   },
   "file_extension": ".py",
   "mimetype": "text/x-python",
   "name": "python",
   "nbconvert_exporter": "python",
   "pygments_lexer": "ipython3",
   "version": "3.6.1"
  },
  "toc": {
   "nav_menu": {
    "height": "12px",
    "width": "252px"
   },
   "navigate_menu": true,
   "number_sections": true,
   "sideBar": true,
   "threshold": 4,
   "toc_cell": false,
   "toc_section_display": "block",
   "toc_window_display": false
  }
 },
 "nbformat": 4,
 "nbformat_minor": 2
}
