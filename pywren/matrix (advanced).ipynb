{
 "cells": [
  {
   "cell_type": "markdown",
   "metadata": {},
   "source": [
    "### PyWren RISECamp, 2017"
   ]
  },
  {
   "cell_type": "code",
   "execution_count": 44,
   "metadata": {},
   "outputs": [
    {
     "name": "stdout",
     "output_type": "stream",
     "text": [
      "Populating the interactive namespace from numpy and matplotlib\n"
     ]
    },
    {
     "name": "stderr",
     "output_type": "stream",
     "text": [
      "/Users/vaishaal/anaconda3/lib/python3.6/site-packages/IPython/core/magics/pylab.py:161: UserWarning: pylab import has clobbered these variables: ['matrix']\n",
      "`%matplotlib` prevents importing * from pylab and numpy\n",
      "  \"\\n`%matplotlib` prevents importing * from pylab and numpy\"\n"
     ]
    }
   ],
   "source": [
    "%pylab inline\n",
    "import boto3\n",
    "import cloudpickle\n",
    "import itertools\n",
    "import concurrent.futures as fs\n",
    "import io\n",
    "import numpy as np\n",
    "import time\n",
    "from importlib import reload\n",
    "from sklearn import metrics\n",
    "import pywren\n",
    "import pywren.wrenconfig as wc\n",
    "import itertools"
   ]
  },
  {
   "cell_type": "code",
   "execution_count": 17,
   "metadata": {
    "collapsed": true
   },
   "outputs": [],
   "source": [
    "DEFAULT_BUCKET = wc.default()['s3']['bucket']\n"
   ]
  },
  {
   "cell_type": "markdown",
   "metadata": {},
   "source": [
    "## 1. Matrix Multiplication"
   ]
  },
  {
   "cell_type": "markdown",
   "metadata": {},
   "source": [
    "One nice thing about PyWren is it allows users to integrate existing python libraries easily.\n",
    "For the following exercise, we are going to use some popular python libraries, e.g., NumPy, to work on some matrix multiplication problems."
   ]
  },
  {
   "cell_type": "code",
   "execution_count": 5,
   "metadata": {},
   "outputs": [],
   "source": [
    "import numpy as np\n",
    "\n",
    "def my_function(b):\n",
    "    x = np.random.normal(0, b, 1024)\n",
    "    A = np.random.normal(0, b, (1024, 1024))\n",
    "    return np.dot(A, x)\n",
    "\n",
    "pwex = pywren.default_executor()\n",
    "res = pwex.map(my_function, np.linspace(0.1, 10, 100))\n"
   ]
  },
  {
   "cell_type": "code",
   "execution_count": 6,
   "metadata": {},
   "outputs": [
    {
     "data": {
      "text/plain": [
       "array([ 0.02155827,  0.26961813,  0.42765298, ...,  0.20587824,\n",
       "       -0.61549094, -0.39917608])"
      ]
     },
     "execution_count": 6,
     "metadata": {},
     "output_type": "execute_result"
    }
   ],
   "source": []
  },
  {
   "cell_type": "markdown",
   "metadata": {},
   "source": [
    "## 2. Large Scale Matrix Multiplication\n",
    "\n",
    "A problem with the above method is that, we are limited to working with \"small\" matrices, that fit in the memory of a single lambda instance. With a little work we can write a \"ShardedMatrix\" wrapper that shards numpy matrices across S3 objects. This allows us to use PyWren's map functionality to access different parts of the matrix. We can further use this functionality to compute a large scale matrix multiplication."
   ]
  },
  {
   "cell_type": "code",
   "execution_count": 19,
   "metadata": {},
   "outputs": [
    {
     "data": {
      "text/plain": [
       "<module 'matrix' from '/Users/vaishaal/research/risecamp/pywren/matrix.py'>"
      ]
     },
     "execution_count": 19,
     "metadata": {},
     "output_type": "execute_result"
    }
   ],
   "source": [
    "from sklearn.datasets import fetch_mldata\n",
    "import matrix\n",
    "reload(matrix)"
   ]
  },
  {
   "cell_type": "markdown",
   "metadata": {},
   "source": [
    "Lets download the mnist dataset. This cell should take about 3 minutes to complete."
   ]
  },
  {
   "cell_type": "code",
   "execution_count": 20,
   "metadata": {},
   "outputs": [],
   "source": [
    "X = fetch_mldata('MNIST original', data_home=\"/tmp/\")['data'].astype('float32')\n",
    "y = fetch_mldata('MNIST original', data_home=\"/tmp/\")['target']\n",
    "X_train = X[:60000, :]\n",
    "y_train = y[:60000, np.newaxis]\n",
    "\n",
    "X_test = X[60000:, :]\n",
    "y_test = y[60000:, np.newaxis]"
   ]
  },
  {
   "cell_type": "code",
   "execution_count": null,
   "metadata": {
    "collapsed": true
   },
   "outputs": [],
   "source": []
  },
  {
   "cell_type": "markdown",
   "metadata": {},
   "source": [
    "We will now \"shard\" the mnist matrix with a shard_size of 4000, what this means is that, we will convert the 60000 by 784 matrix into 30 separate 4000 x 784 numpy matrices that will be split across different S3 Keys. The first argument is the S3 folder where these submatrices can be found. This cell should take about 3 minutes to complete. "
   ]
  },
  {
   "cell_type": "code",
   "execution_count": 21,
   "metadata": {},
   "outputs": [
    {
     "name": "stdout",
     "output_type": "stream",
     "text": [
      "CPU times: user 82.4 ms, sys: 6.61 ms, total: 89 ms\n",
      "Wall time: 1.35 s\n",
      "CPU times: user 82.7 ms, sys: 5.65 ms, total: 88.3 ms\n",
      "Wall time: 1.3 s\n"
     ]
    }
   ],
   "source": [
    "%time X_train_sharded = matrix.ShardedMatrix(\"x_train\", shape=X_train.shape, bucket=DEFAULT_BUCKET, shard_sizes=[4000,784])\n",
    "#%time X_train_sharded.shard_matrix(X_train, n_jobs=16)\n",
    "\n",
    "%time X_test_sharded = matrix.ShardedMatrix(\"x_test\", shape=X_test.shape, bucket=DEFAULT_BUCKET, shard_sizes=[4000,784])\n",
    "#%time X_test_sharded.shard_matrix(X_test, n_jobs=16)"
   ]
  },
  {
   "cell_type": "markdown",
   "metadata": {},
   "source": [
    "Now that we have our sharded matrices we can compute a local nearest neighbor classifier and compare it with one we will compute with PyWren. If we do everything correctly the PyWren implementation should be identical to the local one, but with a better scaling with dataset size."
   ]
  },
  {
   "cell_type": "code",
   "execution_count": 11,
   "metadata": {},
   "outputs": [],
   "source": [
    "def compute_local_nearest_neighbor_labels(X_train, X_test, y_test, y_train):\n",
    "    # compute a distance matrix\n",
    "    train_norms = np.linalg.norm(X_train, axis=1)[:, np.newaxis] ** 2\n",
    "    test_norms = np.linalg.norm(X_test, axis=1)[np.newaxis, :] ** 2\n",
    "    return y_train[np.argmin(train_norms + -2*X_train.dot(X_test.T)+ test_norms, axis=0)]"
   ]
  },
  {
   "cell_type": "code",
   "execution_count": 113,
   "metadata": {},
   "outputs": [
    {
     "name": "stdout",
     "output_type": "stream",
     "text": [
      "CPU times: user 31.7 s, sys: 6.72 s, total: 38.5 s\n",
      "Wall time: 35.5 s\n",
      "0.9691\n"
     ]
    }
   ],
   "source": [
    "%time y_test_pred = compute_local_nearest_neighbor_labels(X_train, X_test, y_test, y_train)\n",
    "print(metrics.accuracy_score(y_test_pred, y_test))"
   ]
  },
  {
   "cell_type": "code",
   "execution_count": 106,
   "metadata": {},
   "outputs": [
    {
     "name": "stdout",
     "output_type": "stream",
     "text": [
      "0.9691\n"
     ]
    }
   ],
   "source": []
  },
  {
   "cell_type": "markdown",
   "metadata": {},
   "source": [
    "#### Lets see how the runtime of our local implementation scales with dataset size "
   ]
  },
  {
   "cell_type": "code",
   "execution_count": 109,
   "metadata": {},
   "outputs": [
    {
     "name": "stdout",
     "output_type": "stream",
     "text": [
      "(100, 1)\n",
      "(1, 10000)\n",
      "(500, 1)\n",
      "(1, 10000)\n",
      "(1000, 1)\n",
      "(1, 10000)\n",
      "(5000, 1)\n",
      "(1, 10000)\n",
      "(10000, 1)\n",
      "(1, 10000)\n",
      "(50000, 1)\n",
      "(1, 10000)\n",
      "(60000, 1)\n",
      "(1, 10000)\n"
     ]
    }
   ],
   "source": [
    "SCALES = [100, 500, 1000, 5000, 10000, 50000, 60000]\n",
    "runtimes = []\n",
    "for s in SCALES:\n",
    "    start = time.time()\n",
    "    compute_local_nearest_neighbor_labels(X_train[:s], X_test, y_test, y_train[:s])\n",
    "    end = time.time()\n",
    "    runtimes.append(end - start)\n",
    "\n"
   ]
  },
  {
   "cell_type": "code",
   "execution_count": 110,
   "metadata": {},
   "outputs": [
    {
     "data": {
      "text/plain": [
       "[<matplotlib.lines.Line2D at 0x1193259b0>]"
      ]
     },
     "execution_count": 110,
     "metadata": {},
     "output_type": "execute_result"
    },
    {
     "data": {
      "image/png": "[encoded data removed]",
      "text/plain": [
       "<matplotlib.figure.Figure at 0x114e674e0>"
      ]
     },
     "metadata": {},
     "output_type": "display_data"
    }
   ],
   "source": [
    "plt.plot(SCALES, runtimes)"
   ]
  },
  {
   "cell_type": "markdown",
   "metadata": {},
   "source": [
    "#### As expected its basically a linear scaling with N. Lets try to do better by using PyWren.\n",
    "Our strategy will be to use PyWren to map over (training point, testing point) pairs (in a blockwise fashion), and generate the distance matrix in a sharded form. Then we can launch another PyWren job to extract the nearest neighbors. "
   ]
  },
  {
   "cell_type": "code",
   "execution_count": 22,
   "metadata": {
    "collapsed": true
   },
   "outputs": [],
   "source": [
    "# create an \"empty\" ShardedMatrix on S3 (we will fill this Matrix in with pywren)\n",
    "D_sharded = matrix.ShardedMatrix(\"D\", shape=(X_train.shape[0], X_test.shape[0]), shard_sizes=[4000,4000], bucket=DEFAULT_BUCKET)\n",
    "\n",
    "def compute_local_nearest_neighbor_distance_matrix(block_pair, X_train_sharded, X_test_sharded, D_sharded):\n",
    "    block0,block1 = block_pair\n",
    "    # compute a distance matrix block\n",
    "    X_train_block = X_train_sharded.get_block(block0, 0)\n",
    "    X_test_block = X_test_sharded.get_block(block1, 0)\n",
    "    train_norms = np.linalg.norm(X_train_block, axis=1)[:, np.newaxis] ** 2\n",
    "    test_norms = np.linalg.norm(X_test_block, axis=1)[np.newaxis, :] ** 2\n",
    "    D_block = train_norms + -2*X_train_block.dot(X_test_block.T)+ test_norms\n",
    "    D_sharded.put_block(block0, block1, D_block)\n",
    "    return 0 "
   ]
  },
  {
   "cell_type": "code",
   "execution_count": 23,
   "metadata": {},
   "outputs": [],
   "source": [
    "pywren_distance_function = lambda bidx: compute_local_nearest_neighbor_distance_matrix(bidx, X_train_sharded, X_test_sharded, D_sharded)"
   ]
  },
  {
   "cell_type": "code",
   "execution_count": 24,
   "metadata": {},
   "outputs": [
    {
     "name": "stdout",
     "output_type": "stream",
     "text": [
      "CPU times: user 1.37 s, sys: 174 ms, total: 1.55 s\n",
      "Wall time: 6.23 s\n"
     ]
    }
   ],
   "source": [
    "%time futures = pwex.map(pywren_distance_function, D_sharded.block_idxs_not_exist)"
   ]
  },
  {
   "cell_type": "code",
   "execution_count": 27,
   "metadata": {},
   "outputs": [
    {
     "data": {
      "text/plain": [
       "[]"
      ]
     },
     "execution_count": 27,
     "metadata": {},
     "output_type": "execute_result"
    }
   ],
   "source": [
    "D_sharded.block_idxs_not_exist"
   ]
  },
  {
   "cell_type": "code",
   "execution_count": 39,
   "metadata": {},
   "outputs": [],
   "source": [
    "def find_argmin(block_pair, D_sharded):\n",
    "    D_block = D_sharded.get_block(*block_pair)\n",
    "    offset = block_pair[0]*D_sharded.shard_sizes[0] \n",
    "    return (block_pair[1], offset + np.argmin(D_block, axis=0))"
   ]
  },
  {
   "cell_type": "code",
   "execution_count": 40,
   "metadata": {},
   "outputs": [
    {
     "name": "stdout",
     "output_type": "stream",
     "text": [
      "CPU times: user 1.3 s, sys: 177 ms, total: 1.48 s\n",
      "Wall time: 2.58 s\n"
     ]
    }
   ],
   "source": [
    "%time futures = pwex.map(lambda x: find_argmin(x, D_sharded), sorted(D_sharded.block_idxs))"
   ]
  },
  {
   "cell_type": "code",
   "execution_count": 41,
   "metadata": {},
   "outputs": [
    {
     "name": "stdout",
     "output_type": "stream",
     "text": [
      "CPU times: user 1.45 s, sys: 170 ms, total: 1.62 s\n",
      "Wall time: 21.2 s\n"
     ]
    },
    {
     "data": {
      "text/plain": [
       "([<pywren.future.ResponseFuture at 0x118403710>,\n",
       "  <pywren.future.ResponseFuture at 0x118425208>,\n",
       "  <pywren.future.ResponseFuture at 0x1149d64e0>,\n",
       "  <pywren.future.ResponseFuture at 0x118403b70>,\n",
       "  <pywren.future.ResponseFuture at 0x11849bcf8>,\n",
       "  <pywren.future.ResponseFuture at 0x1255d59e8>,\n",
       "  <pywren.future.ResponseFuture at 0x118565320>,\n",
       "  <pywren.future.ResponseFuture at 0x1182f92b0>,\n",
       "  <pywren.future.ResponseFuture at 0x1255d55c0>,\n",
       "  <pywren.future.ResponseFuture at 0x1182f99e8>,\n",
       "  <pywren.future.ResponseFuture at 0x118425828>,\n",
       "  <pywren.future.ResponseFuture at 0x1184036a0>,\n",
       "  <pywren.future.ResponseFuture at 0x118425780>,\n",
       "  <pywren.future.ResponseFuture at 0x1184030b8>,\n",
       "  <pywren.future.ResponseFuture at 0x1186b99b0>,\n",
       "  <pywren.future.ResponseFuture at 0x118565278>,\n",
       "  <pywren.future.ResponseFuture at 0x1255d52b0>,\n",
       "  <pywren.future.ResponseFuture at 0x118403780>,\n",
       "  <pywren.future.ResponseFuture at 0x1184b2748>,\n",
       "  <pywren.future.ResponseFuture at 0x1255d54e0>,\n",
       "  <pywren.future.ResponseFuture at 0x118425908>,\n",
       "  <pywren.future.ResponseFuture at 0x1255d5630>,\n",
       "  <pywren.future.ResponseFuture at 0x118403198>,\n",
       "  <pywren.future.ResponseFuture at 0x1255d5a58>,\n",
       "  <pywren.future.ResponseFuture at 0x1185533c8>,\n",
       "  <pywren.future.ResponseFuture at 0x1255d5668>,\n",
       "  <pywren.future.ResponseFuture at 0x11849b438>,\n",
       "  <pywren.future.ResponseFuture at 0x1256f8a58>,\n",
       "  <pywren.future.ResponseFuture at 0x1149d6908>,\n",
       "  <pywren.future.ResponseFuture at 0x1255d5320>,\n",
       "  <pywren.future.ResponseFuture at 0x1185654a8>,\n",
       "  <pywren.future.ResponseFuture at 0x118565f98>,\n",
       "  <pywren.future.ResponseFuture at 0x1255d5d30>,\n",
       "  <pywren.future.ResponseFuture at 0x1184b25f8>,\n",
       "  <pywren.future.ResponseFuture at 0x118403550>,\n",
       "  <pywren.future.ResponseFuture at 0x1185f80b8>,\n",
       "  <pywren.future.ResponseFuture at 0x118497fd0>,\n",
       "  <pywren.future.ResponseFuture at 0x1186b9c18>,\n",
       "  <pywren.future.ResponseFuture at 0x1139ef278>,\n",
       "  <pywren.future.ResponseFuture at 0x118403048>,\n",
       "  <pywren.future.ResponseFuture at 0x11849b128>,\n",
       "  <pywren.future.ResponseFuture at 0x11840e080>,\n",
       "  <pywren.future.ResponseFuture at 0x1139ef2b0>,\n",
       "  <pywren.future.ResponseFuture at 0x1255d57f0>,\n",
       "  <pywren.future.ResponseFuture at 0x1185656a0>],\n",
       " [])"
      ]
     },
     "execution_count": 41,
     "metadata": {},
     "output_type": "execute_result"
    }
   ],
   "source": [
    "%time pywren.wait(futures)"
   ]
  },
  {
   "cell_type": "code",
   "execution_count": 47,
   "metadata": {},
   "outputs": [],
   "source": [
    "results = [f.result() for f in futures]"
   ]
  },
  {
   "cell_type": "code",
   "execution_count": 65,
   "metadata": {},
   "outputs": [],
   "source": [
    "a = results[:4]"
   ]
  },
  {
   "cell_type": "code",
   "execution_count": 70,
   "metadata": {},
   "outputs": [
    {
     "name": "stdout",
     "output_type": "stream",
     "text": [
      "0 (0, array([2857, 1328, 3227, ..., 1899, 2541, 2978]))\n",
      "1 (1, array([1986, 1986, 3092, ..., 3412, 1933, 3412]))\n",
      "2 (2, array([3412, 3412, 3412, ..., 2952, 1614, 3561]))\n",
      "0 (0, array([5849, 4922, 5589, ..., 4557, 5198, 6934]))\n",
      "1 (1, array([5734, 4803, 6972, ..., 7362, 5954, 5731]))\n",
      "2 (2, array([7206, 5954, 6921, ..., 7249, 4239, 5792]))\n",
      "0 (0, array([ 9375,  9821,  9875, ..., 11660,  9483,  9483]))\n",
      "1 (1, array([ 9801,  9476, 11477, ..., 10411, 10310, 10310]))\n",
      "2 (2, array([10411,  9541, 10310, ..., 10310, 10310, 10310]))\n",
      "0 (0, array([14454, 15977, 14817, ..., 14871, 12731, 15212]))\n",
      "1 (1, array([15081, 14434, 15789, ..., 12516, 14794, 15370]))\n",
      "2 (2, array([14339, 14794, 12248, ..., 15835, 14310, 12818]))\n",
      "0 (0, array([18812, 16354, 16343, ..., 18719, 19541, 18947]))\n",
      "1 (1, array([18902, 19057, 19735, ..., 19434, 19815, 18887]))\n",
      "2 (2, array([16793, 18824, 18887, ..., 19508, 19528, 16346]))\n",
      "0 (0, array([21106, 20463, 23168, ..., 21810, 21667, 21046]))\n",
      "1 (1, array([21530, 23862, 22137, ..., 22151, 22642, 22642]))\n",
      "2 (2, array([23064, 22642, 22642, ..., 23349, 22642, 20506]))\n",
      "0 (0, array([24221, 24213, 27883, ..., 24671, 24593, 24595]))\n",
      "1 (1, array([24432, 24542, 24696, ..., 27698, 26366, 25728]))\n",
      "2 (2, array([25728, 25728, 26172, ..., 27616, 26742, 25874]))\n",
      "0 (0, array([31838, 31966, 31768, ..., 31500, 31689, 30602]))\n",
      "1 (1, array([30660, 31889, 30660, ..., 28403, 29232, 28464]))\n",
      "2 (2, array([29820, 28501, 28024, ..., 28141, 28162, 28141]))\n",
      "0 (0, array([34040, 32825, 33450, ..., 32522, 35760, 32941]))\n",
      "1 (1, array([34341, 35505, 33132, ..., 32873, 34144, 34144]))\n",
      "2 (2, array([32873, 34998, 34157, ..., 33619, 33619, 32219]))\n",
      "0 (0, array([38885, 39722, 38804, ..., 36774, 36880, 36458]))\n",
      "1 (1, array([39786, 39786, 39786, ..., 37143, 36833, 38773]))\n",
      "2 (2, array([39542, 39542, 36011, ..., 36001, 39542, 36856]))\n",
      "0 (0, array([41854, 40829, 41981, ..., 41887, 41581, 43734]))\n",
      "1 (1, array([43699, 41581, 42102, ..., 42999, 42385, 43781]))\n",
      "2 (2, array([42175, 42129, 42454, ..., 42886, 43413, 42868]))\n",
      "0 (0, array([45230, 47157, 45230, ..., 47289, 44381, 44381]))\n",
      "1 (1, array([45241, 47032, 44953, ..., 44328, 45665, 47149]))\n",
      "2 (2, array([47018, 45454, 44005, ..., 47904, 47917, 46079]))\n",
      "0 (0, array([49212, 50606, 49254, ..., 49357, 48469, 50680]))\n",
      "1 (1, array([49971, 48369, 48421, ..., 48098, 48089, 48053]))\n",
      "2 (2, array([48105, 48053, 48059, ..., 48155, 48108, 49963]))\n",
      "0 (0, array([55817, 52291, 52961, ..., 54499, 52392, 52946]))\n",
      "1 (1, array([54541, 52531, 54384, ..., 54772, 55549, 55092]))\n",
      "2 (2, array([54772, 55095, 54923, ..., 55674, 55617, 54593]))\n",
      "0 (0, array([56151, 57067, 56460, ..., 56638, 58306, 58501]))\n",
      "1 (1, array([59574, 58306, 58355, ..., 58362, 58226, 56606]))\n",
      "2 (2, array([58848, 56087, 57681, ..., 56536, 58407, 58700]))\n"
     ]
    }
   ],
   "source": [
    "for key, group in itertools.groupby(results, lambda x: x[0]):\n",
    "    for thing in group:\n",
    "        print(key, thing)"
   ]
  },
  {
   "cell_type": "code",
   "execution_count": null,
   "metadata": {
    "collapsed": true
   },
   "outputs": [],
   "source": []
  }
 ],
 "metadata": {
  "kernelspec": {
   "display_name": "Python 3",
   "language": "python",
   "name": "python3"
  },
  "language_info": {
   "codemirror_mode": {
    "name": "ipython",
    "version": 3
   },
   "file_extension": ".py",
   "mimetype": "text/x-python",
   "name": "python",
   "nbconvert_exporter": "python",
   "pygments_lexer": "ipython3",
   "version": "3.6.1"
  }
 },
 "nbformat": 4,
 "nbformat_minor": 2
}
