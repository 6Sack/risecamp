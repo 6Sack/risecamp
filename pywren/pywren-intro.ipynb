{
 "cells": [
  {
   "cell_type": "markdown",
   "metadata": {},
   "source": [
    "# PyWren RISECamp, 2017"
   ]
  },
  {
   "cell_type": "markdown",
   "metadata": {},
   "source": [
    "Welcome to the hands-on tutorial for PyWren.\n",
    "\n",
    "This tutorial consists of a set of exercises that will have you working directly with PyWren:\n",
    "- Some introduction exercises (covered in this notebook)\n",
    "- data analysis on a wikipedia dataset (see analyze-wikipedia.ipynb)\n",
    "- matrix multiplication with PyWren (see matrix.ipynb)\n",
    "- hyperparameter optimization (see hyperparameter-optimization.ipynb)\n",
    "\n",
    "\n"
   ]
  },
  {
   "cell_type": "markdown",
   "metadata": {},
   "source": [
    "## Introduction to PyWren\n",
    "\n",
    "You can find solutions for this notebook at:\n",
    "https://github.com/ucbrise/risecamp/tree/master/pywren/solution/pywren-intro-solution.ipynb\n",
    "\n",
    "First, let's write a simple Hello world program to test out PyWren."
   ]
  },
  {
   "cell_type": "code",
   "execution_count": null,
   "metadata": {
    "collapsed": true
   },
   "outputs": [],
   "source": [
    "# some libraries that are useful for this tutorial\n",
    "import sys\n",
    "from training import *\n",
    "\n",
    "# We need to load PyWren and create an executor instance\n",
    "import pywren\n",
    "pwex = pywren.default_executor()"
   ]
  },
  {
   "cell_type": "markdown",
   "metadata": {},
   "source": [
    "## 1. call_async() -- our single invocation API\n",
    "We use the `call_async()` API in pywren executor to run a function in the cloud\n",
    "The workflow is pretty simple and looks like this:\n",
    "\n",
    "```python\n",
    "def my_func(param):\n",
    "    # do something\n",
    "    return some_result\n",
    "    \n",
    "handler = pwex.call_async(my_func, param)\n",
    "result = handler.result()\n",
    "```\n",
    "\n",
    "**Exercise**: modify the following code block to run hello world with pywren\n",
    "\n"
   ]
  },
  {
   "cell_type": "code",
   "execution_count": null,
   "metadata": {
    "collapsed": true,
    "scrolled": false
   },
   "outputs": [],
   "source": [
    "# first we need a basic hello world function\n",
    "def hello_world(param):\n",
    "    if param == 42:\n",
    "        return \"Hello world!\"\n",
    "\n",
    "future = pwex.call_async()\n",
    "# on success, this line should print out \"Hello world!\"\n",
    "check_result_1(future.result())"
   ]
  },
  {
   "cell_type": "markdown",
   "metadata": {},
   "source": [
    "## 2. map() -- parallel execution in the cloud\n",
    "The above example executes a function once in the cloud. This is pretty neat, but pywren *really* shines when we want to run functions multiple times in parallel.\n",
    "To do this, we can use PyWren's `map()` API that allows users to call a function over multiple parameters:\n",
    "\n",
    "```python\n",
    "handlers = pwex.map(my_func, param_list)\n",
    "pywren.wait(handlers)\n",
    "\n",
    "results = [h.result() for h in handlers]\n",
    "```\n"
   ]
  },
  {
   "cell_type": "markdown",
   "metadata": {},
   "source": [
    "## 3. wait() API and multiple jobs\n",
    "\n",
    "`map` returns a list of `futures`, which represents separate lambda invocations which may not have completed and have results yet. In order to track the progress of our job-set, we use the `wait` API.\n"
   ]
  },
  {
   "cell_type": "code",
   "execution_count": null,
   "metadata": {
    "collapsed": true
   },
   "outputs": [],
   "source": [
    "import numpy as np\n",
    "\n",
    "def my_function(b):\n",
    "    x = np.random.normal(0, b, 1024)\n",
    "    A = np.random.normal(0, b, (1024, 1024))\n",
    "    return np.dot(A, x)\n",
    "\n",
    "pwex = pywren.default_executor()\n",
    "futures = pwex.map(my_function, np.linspace(0.1, 10, 100))\n",
    "pywren.wait(futures, return_when=pywren.ALL_COMPLETED)\n",
    "\n",
    "for fut in futures:\n",
    "    print(fut.result())\n"
   ]
  },
  {
   "cell_type": "markdown",
   "metadata": {},
   "source": [
    "`wait` polls S3 for the results of any finished jobs, and return two lists: finished and unfinished jobs.\n",
    "\n",
    "By default it blocks until all jobs have completed, though you can also make it block until at least one job has completed, with `return_when=ANY_COMPLETED`, or return immediately with `ALWAYS`"
   ]
  },
  {
   "cell_type": "markdown",
   "metadata": {},
   "source": [
    "**Exercise**: modify the following code block to return a list of the squares of the integers 0...9"
   ]
  },
  {
   "cell_type": "code",
   "execution_count": null,
   "metadata": {
    "collapsed": true
   },
   "outputs": [],
   "source": [
    "# do not modify code here\n",
    "param_list = [0, 1, 2, 3, 4, 5, 6, 7, 8, 9]\n",
    "# do not modify code above\n",
    "\n",
    "def square(param):\n",
    "    return param\n",
    "\n",
    "futures = pwex.call_async(square, None)\n",
    "\n",
    "pywren.wait(futures)\n",
    "\n",
    "results = [f.result() for f in futures]"
   ]
  },
  {
   "cell_type": "markdown",
   "metadata": {},
   "source": [
    "## 4. Visualization and Debugging\n",
    "From the talk, you know what happens behind every PyWren execution. Let's see it all in action!\n",
    "\n",
    "**Exercise**: inspect PyWren's execution by running the plotting code below"
   ]
  },
  {
   "cell_type": "code",
   "execution_count": null,
   "metadata": {
    "collapsed": true
   },
   "outputs": [],
   "source": [
    "plot_pywren_execution(futures)"
   ]
  },
  {
   "cell_type": "markdown",
   "metadata": {},
   "source": [
    "Another tool you can use is to print CloudWatch logs which gives you more information about the latest Lambda execution."
   ]
  },
  {
   "cell_type": "code",
   "execution_count": null,
   "metadata": {
    "collapsed": true
   },
   "outputs": [],
   "source": [
    "!pywren print_latest_logs"
   ]
  },
  {
   "cell_type": "markdown",
   "metadata": {},
   "source": [
    "This concludes our startup section. You can find more documentation on PyWren APIs and usage at http://pywren.io/"
   ]
  }
 ],
 "metadata": {
  "kernelspec": {
   "display_name": "Python 3",
   "language": "python",
   "name": "python3"
  },
  "language_info": {
   "codemirror_mode": {
    "name": "ipython",
    "version": 3
   },
   "file_extension": ".py",
   "mimetype": "text/x-python",
   "name": "python",
   "nbconvert_exporter": "python",
   "pygments_lexer": "ipython3",
   "version": "3.6.0"
  }
 },
 "nbformat": 4,
 "nbformat_minor": 2
}
