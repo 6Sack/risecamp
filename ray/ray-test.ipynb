{
 "cells": [
  {
   "cell_type": "markdown",
   "metadata": {},
   "source": [
    "Ray hello world notebook."
   ]
  },
  {
   "cell_type": "code",
   "execution_count": 1,
   "metadata": {
    "collapsed": false
   },
   "outputs": [],
   "source": [
    "import ray\n",
    "import time"
   ]
  },
  {
   "cell_type": "code",
   "execution_count": 2,
   "metadata": {
    "collapsed": true
   },
   "outputs": [
    {
     "name": "stdout",
     "output_type": "stream",
     "text": [
      "Waiting for redis server at 127.0.0.1:42226 to respond...\n",
      "Waiting for redis server at 127.0.0.1:13690 to respond...\n",
      "Starting local scheduler with 8 CPUs, 0 GPUs\n",
      "View the web UI at http://localhost:8889/notebooks/ray_ui71346.ipynb\n"
     ]
    },
    {
     "data": {
      "text/plain": [
       "{'local_scheduler_socket_names': ['/tmp/scheduler57634936'],\n",
       " 'node_ip_address': '127.0.0.1',\n",
       " 'object_store_addresses': [ObjectStoreAddress(name='/tmp/plasma_store33781836', manager_name='/tmp/plasma_manager11760215', manager_port=49225)],\n",
       " 'redis_address': '127.0.0.1:42226'}"
      ]
     },
     "execution_count": 2,
     "metadata": {},
     "output_type": "execute_result"
    }
   ],
   "source": [
    "ray.init()"
   ]
  },
  {
   "cell_type": "code",
   "execution_count": 4,
   "metadata": {
    "collapsed": false
   },
   "outputs": [],
   "source": [
    "@ray.remote\n",
    "def f():\n",
    "    return 1"
   ]
  },
  {
   "cell_type": "code",
   "execution_count": 6,
   "metadata": {
    "collapsed": true
   },
   "outputs": [
    {
     "name": "stdout",
     "output_type": "stream",
     "text": [
      "A worker died or was killed while executing a task.\n",
      "\n",
      "  You can inspect errors by running\n",
      "\n",
      "      ray.error_info()\n",
      "\n",
      "  If this driver is hanging, start a new one with\n",
      "\n",
      "      ray.init(redis_address=\"127.0.0.1:42226\")\n",
      "  \n"
     ]
    }
   ],
   "source": [
    "oid = f.remote()"
   ]
  },
  {
   "cell_type": "code",
   "execution_count": 7,
   "metadata": {
    "collapsed": true
   },
   "outputs": [
    {
     "data": {
      "text/plain": [
       "[{'data': 'E+\\xa1\\x19\\x8fxv\\xe5I\\x97\\xc0\\x05p\\xb7)\\xd6\\xc3u\\x1e\\x18',\n",
       "  'message': 'A worker died or was killed while executing a task.',\n",
       "  'type': 'worker_died'},\n",
       " {'data': '(O\\xe2]\\xbd\\xcb\\xca>\\x8c\\x0emw\\x1c>M\"\\x9a\\x0f\\xd4A',\n",
       "  'message': 'A worker died or was killed while executing a task.',\n",
       "  'type': 'worker_died'}]"
      ]
     },
     "execution_count": 7,
     "metadata": {},
     "output_type": "execute_result"
    }
   ],
   "source": [
    "ray.error_info()"
   ]
  }
 ],
 "metadata": {
  "anaconda-cloud": {},
  "kernelspec": {
   "display_name": "Python [default]",
   "language": "python",
   "name": "python2"
  },
  "language_info": {
   "codemirror_mode": {
    "name": "ipython",
    "version": 2
   },
   "file_extension": ".py",
   "mimetype": "text/x-python",
   "name": "python",
   "nbconvert_exporter": "python",
   "pygments_lexer": "ipython2",
   "version": "2.7.12"
  }
 },
 "nbformat": 4,
 "nbformat_minor": 2
}
