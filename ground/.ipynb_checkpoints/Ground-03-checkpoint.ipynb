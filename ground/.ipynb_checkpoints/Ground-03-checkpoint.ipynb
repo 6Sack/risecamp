{
 "cells": [
  {
   "cell_type": "markdown",
   "metadata": {},
   "source": [
    "## Extending Ground"
   ]
  },
  {
   "cell_type": "markdown",
   "metadata": {},
   "source": [
    "In this section, we will walk you through how you might go about extending Ground to populate your own data context. Before we go any further, let's first reset our Ground instance. If you mistakenly add data to Ground as you do this exercise, you can run the following cell to wipe Ground and start over anew:"
   ]
  },
  {
   "cell_type": "code",
   "execution_count": null,
   "metadata": {
    "collapsed": true
   },
   "outputs": [],
   "source": [
    "from ground_setup import reset_ground\n",
    "\n",
    "reset_ground()"
   ]
  },
  {
   "cell_type": "markdown",
   "metadata": {},
   "source": [
    "Before we start writing our own Aboveground tool, let's first dig into the the Ground file populator component works a little more. Let's begin by opening the `ground_file_client.py` file in another tab. After walking through the comments there, return here to continue with the exercises."
   ]
  },
  {
   "cell_type": "markdown",
   "metadata": {
    "collapsed": true
   },
   "source": [
    "Based on the examples of the Ground file client, we're going to now implement a Ground directory client. Instead of an `add_file` method in that example, we're going to implement an `add_dir` method that takes in the path of a directory, generates a of list all the files in it, and adds each one of those files to Ground. \n",
    "\n",
    "The data model we are imagining will create a node for the directory and one for each of the files in the directory. Each one of the files will be associated with the directory via an edge.\n",
    "\n",
    "The simplest version of this can simply leverage the existing file client, in order to add the files and then link the files to the directory node. We encourage you to explore the API and add other features that you can think of. For example, one optional feature would be to generate lineage edges, which would indicate that it was the `ground_dir_client` script that actually created the nodes and edges."
   ]
  },
  {
   "cell_type": "code",
   "execution_count": null,
   "metadata": {
    "collapsed": true
   },
   "outputs": [],
   "source": [
    "from ground import GroundClient\n",
    "\n",
    "gc = GroundClient()\n",
    "\n",
    "def add_dir(dir_name):\n",
    "    # your solution here\n",
    "    pass"
   ]
  }
 ],
 "metadata": {
  "kernelspec": {
   "display_name": "Python 3",
   "language": "python",
   "name": "python3"
  },
  "language_info": {
   "codemirror_mode": {
    "name": "ipython",
    "version": 2
   },
   "file_extension": ".py",
   "mimetype": "text/x-python",
   "name": "python",
   "nbconvert_exporter": "python",
   "pygments_lexer": "ipython2",
   "version": "2.7.13"
  }
 },
 "nbformat": 4,
 "nbformat_minor": 2
}
